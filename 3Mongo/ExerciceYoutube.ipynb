{
 "cells": [
  {
   "cell_type": "markdown",
   "metadata": {},
   "source": [
    "# Consignes\n",
    "\n",
    "Intégrer le fichier USvideos.csv qui représente un ensemble de 8000 vidéos Youtube. \n",
    "\n",
    "Merger le fichier US_category_id.json pour récupérer le nom des catégories. Il conviendra de bien spécifier l'ID du document.\n",
    "\n",
    "\n",
    "# Questions \n",
    "- 1) Récupérer toutes les vidéos de la chaîne Apple.\n",
    "- 2) Compter le nombre de catégories différentes\n",
    "- 3) Si vous ne l'avez pas déjà fait, découper les tags en listes et mettre à jour les tags de chacun des documents avec une requête update.\n",
    "- 4) Récupérer les vidéos les plus vues.\n",
    "- 5) Compter le nombre moyen de vues en fonction de la catégorie.\n",
    "- 6) Récupérer les chaines Youtube avec la plus grande moyenne de likes."
   ]
  },
  {
   "cell_type": "code",
   "execution_count": 1,
   "metadata": {},
   "outputs": [],
   "source": [
    "import pandas as pd\n",
    "import pymongo"
   ]
  },
  {
   "cell_type": "code",
   "execution_count": 2,
   "metadata": {},
   "outputs": [],
   "source": [
    "client = pymongo.MongoClient()\n",
    "database = client['exercices']\n",
    "collection = database['youtube']"
   ]
  },
  {
   "cell_type": "code",
   "execution_count": 3,
   "metadata": {},
   "outputs": [
    {
     "data": {
      "text/html": [
       "<div>\n",
       "<style scoped>\n",
       "    .dataframe tbody tr th:only-of-type {\n",
       "        vertical-align: middle;\n",
       "    }\n",
       "\n",
       "    .dataframe tbody tr th {\n",
       "        vertical-align: top;\n",
       "    }\n",
       "\n",
       "    .dataframe thead th {\n",
       "        text-align: right;\n",
       "    }\n",
       "</style>\n",
       "<table border=\"1\" class=\"dataframe\">\n",
       "  <thead>\n",
       "    <tr style=\"text-align: right;\">\n",
       "      <th></th>\n",
       "      <th>video_id</th>\n",
       "      <th>title</th>\n",
       "      <th>channel_title</th>\n",
       "      <th>category_id</th>\n",
       "      <th>tags</th>\n",
       "      <th>views</th>\n",
       "      <th>likes</th>\n",
       "      <th>dislikes</th>\n",
       "      <th>comment_total</th>\n",
       "      <th>thumbnail_link</th>\n",
       "      <th>date</th>\n",
       "    </tr>\n",
       "  </thead>\n",
       "  <tbody>\n",
       "    <tr>\n",
       "      <th>0</th>\n",
       "      <td>XpVt6Z1Gjjo</td>\n",
       "      <td>1 YEAR OF VLOGGING -- HOW LOGAN PAUL CHANGED Y...</td>\n",
       "      <td>Logan Paul Vlogs</td>\n",
       "      <td>24</td>\n",
       "      <td>logan paul vlog|logan paul|logan|paul|olympics...</td>\n",
       "      <td>4394029</td>\n",
       "      <td>320053</td>\n",
       "      <td>5931</td>\n",
       "      <td>46245</td>\n",
       "      <td>https://i.ytimg.com/vi/XpVt6Z1Gjjo/default.jpg</td>\n",
       "      <td>13.09</td>\n",
       "    </tr>\n",
       "    <tr>\n",
       "      <th>1</th>\n",
       "      <td>K4wEI5zhHB0</td>\n",
       "      <td>iPhone X — Introducing iPhone X — Apple</td>\n",
       "      <td>Apple</td>\n",
       "      <td>28</td>\n",
       "      <td>Apple|iPhone 10|iPhone Ten|iPhone|Portrait Lig...</td>\n",
       "      <td>7860119</td>\n",
       "      <td>185853</td>\n",
       "      <td>26679</td>\n",
       "      <td>0</td>\n",
       "      <td>https://i.ytimg.com/vi/K4wEI5zhHB0/default.jpg</td>\n",
       "      <td>13.09</td>\n",
       "    </tr>\n",
       "  </tbody>\n",
       "</table>\n",
       "</div>"
      ],
      "text/plain": [
       "      video_id                                              title  \\\n",
       "0  XpVt6Z1Gjjo  1 YEAR OF VLOGGING -- HOW LOGAN PAUL CHANGED Y...   \n",
       "1  K4wEI5zhHB0            iPhone X — Introducing iPhone X — Apple   \n",
       "\n",
       "      channel_title  category_id  \\\n",
       "0  Logan Paul Vlogs           24   \n",
       "1             Apple           28   \n",
       "\n",
       "                                                tags    views   likes  \\\n",
       "0  logan paul vlog|logan paul|logan|paul|olympics...  4394029  320053   \n",
       "1  Apple|iPhone 10|iPhone Ten|iPhone|Portrait Lig...  7860119  185853   \n",
       "\n",
       "   dislikes  comment_total                                  thumbnail_link  \\\n",
       "0      5931          46245  https://i.ytimg.com/vi/XpVt6Z1Gjjo/default.jpg   \n",
       "1     26679              0  https://i.ytimg.com/vi/K4wEI5zhHB0/default.jpg   \n",
       "\n",
       "    date  \n",
       "0  13.09  \n",
       "1  13.09  "
      ]
     },
     "execution_count": 3,
     "metadata": {},
     "output_type": "execute_result"
    }
   ],
   "source": [
    "df_youtube = pd.read_csv(\"./data/USvideos.csv\")\n",
    "df_youtube.head(2)"
   ]
  },
  {
   "cell_type": "markdown",
   "metadata": {},
   "source": [
    "## Question 0"
   ]
  },
  {
   "cell_type": "markdown",
   "metadata": {},
   "source": [
    "### Netoyer les données"
   ]
  },
  {
   "cell_type": "markdown",
   "metadata": {
    "slideshow": {
     "slide_type": "slide"
    }
   },
   "source": [
    "### Importer les données"
   ]
  },
  {
   "cell_type": "code",
   "execution_count": 167,
   "metadata": {},
   "outputs": [],
   "source": [
    "df_categories = pd.read_json(\"./data/US_category_id.json\")\n",
    "df_categories[\"id\"] = df_categories[\"items\"].apply(lambda x : int(x.get(\"id\")))\n",
    "\n",
    "df_o = df_youtube.merge(df_categories, right_on = 'id', left_on = \"category_id\")\n",
    "df_o.rename({\"video_id\": \"_id\"}, axis=1, inplace=True)"
   ]
  },
  {
   "cell_type": "code",
   "execution_count": 168,
   "metadata": {},
   "outputs": [],
   "source": [
    "df_o_w_d = df_o.drop_duplicates(\"_id\")"
   ]
  },
  {
   "cell_type": "code",
   "execution_count": 169,
   "metadata": {},
   "outputs": [
    {
     "data": {
      "text/plain": [
       "((7992,), (2364,))"
      ]
     },
     "execution_count": 169,
     "metadata": {},
     "output_type": "execute_result"
    }
   ],
   "source": [
    "df_o._id.shape, df_o._id.unique().shape"
   ]
  },
  {
   "cell_type": "code",
   "execution_count": 171,
   "metadata": {
    "scrolled": true
   },
   "outputs": [
    {
     "data": {
      "text/plain": [
       "{'_id': 'XpVt6Z1Gjjo',\n",
       " 'category_id': 24,\n",
       " 'channel_title': 'Logan Paul Vlogs',\n",
       " 'comment_total': 46245,\n",
       " 'date': 13.09,\n",
       " 'dislikes': 5931,\n",
       " 'etag': '\"m2yskBQFythfE4irbTIeOgYYfBU/S730Ilt-Fi-emsQJvJAAShlR6hM\"',\n",
       " 'id': 24,\n",
       " 'items': {'etag': '\"m2yskBQFythfE4irbTIeOgYYfBU/UVB9oxX2Bvqa_w_y3vXSLVK5E_s\"',\n",
       "  'id': '24',\n",
       "  'kind': 'youtube#videoCategory',\n",
       "  'snippet': {'assignable': True,\n",
       "   'channelId': 'UCBR8-60-B28hp2BmDPdntcQ',\n",
       "   'title': 'Entertainment'}},\n",
       " 'kind': 'youtube#videoCategoryListResponse',\n",
       " 'likes': 320053,\n",
       " 'tags': 'logan paul vlog|logan paul|logan|paul|olympics|logan paul youtube|vlog|daily|comedy|hollywood|parrot|maverick|bird|maverick clothes|diamond play button|logan paul diamond play button|10M subscribers|logan paul 1 year vlogging|1 year vlog|dwarf mamba play button|logan paul history|youtube history|10M|10M plaque|youtube button|diamond button|logang|logang 4 life',\n",
       " 'thumbnail_link': 'https://i.ytimg.com/vi/XpVt6Z1Gjjo/default.jpg',\n",
       " 'title': '1 YEAR OF VLOGGING -- HOW LOGAN PAUL CHANGED YOUTUBE FOREVER!',\n",
       " 'views': 4394029}"
      ]
     },
     "execution_count": 171,
     "metadata": {},
     "output_type": "execute_result"
    }
   ],
   "source": [
    "collection.insert_many(df_o_w_d.to_dict(orient = 'records'))\n",
    "collection.find_one()"
   ]
  },
  {
   "cell_type": "code",
   "execution_count": 170,
   "metadata": {},
   "outputs": [],
   "source": [
    "collection.drop()"
   ]
  },
  {
   "cell_type": "markdown",
   "metadata": {},
   "source": [
    "## Question 1  "
   ]
  },
  {
   "cell_type": "code",
   "execution_count": 172,
   "metadata": {},
   "outputs": [],
   "source": [
    "import pprint"
   ]
  },
  {
   "cell_type": "code",
   "execution_count": 173,
   "metadata": {},
   "outputs": [
    {
     "name": "stdout",
     "output_type": "stream",
     "text": [
      "{'_id': 'K4wEI5zhHB0',\n",
      " 'category_id': 28,\n",
      " 'channel_title': 'Apple',\n",
      " 'comment_total': 0,\n",
      " 'date': 13.09,\n",
      " 'dislikes': 26679,\n",
      " 'etag': '\"m2yskBQFythfE4irbTIeOgYYfBU/S730Ilt-Fi-emsQJvJAAShlR6hM\"',\n",
      " 'id': 28,\n",
      " 'items': {'etag': '\"m2yskBQFythfE4irbTIeOgYYfBU/w5HjcTD82G_XA3xBctS30zS-JpQ\"',\n",
      "           'id': '28',\n",
      "           'kind': 'youtube#videoCategory',\n",
      "           'snippet': {'assignable': True,\n",
      "                       'channelId': 'UCBR8-60-B28hp2BmDPdntcQ',\n",
      "                       'title': 'Science & Technology'}},\n",
      " 'kind': 'youtube#videoCategoryListResponse',\n",
      " 'likes': 185853,\n",
      " 'tags': 'Apple|iPhone 10|iPhone Ten|iPhone|Portrait Lighting|A11 '\n",
      "         'Bionic|augmented reality|emoji|animoji|Face ID|Apple '\n",
      "         'Pay|camera|smartphone',\n",
      " 'thumbnail_link': 'https://i.ytimg.com/vi/K4wEI5zhHB0/default.jpg',\n",
      " 'title': 'iPhone X — Introducing iPhone X — Apple',\n",
      " 'views': 7860119}\n",
      "{'_id': 'A9k88sMyiJM',\n",
      " 'category_id': 28,\n",
      " 'channel_title': 'Apple',\n",
      " 'comment_total': 0,\n",
      " 'date': 18.09,\n",
      " 'dislikes': 1489,\n",
      " 'etag': '\"m2yskBQFythfE4irbTIeOgYYfBU/S730Ilt-Fi-emsQJvJAAShlR6hM\"',\n",
      " 'id': 28,\n",
      " 'items': {'etag': '\"m2yskBQFythfE4irbTIeOgYYfBU/w5HjcTD82G_XA3xBctS30zS-JpQ\"',\n",
      "           'id': '28',\n",
      "           'kind': 'youtube#videoCategory',\n",
      "           'snippet': {'assignable': True,\n",
      "                       'channelId': 'UCBR8-60-B28hp2BmDPdntcQ',\n",
      "                       'title': 'Science & Technology'}},\n",
      " 'kind': 'youtube#videoCategoryListResponse',\n",
      " 'likes': 14647,\n",
      " 'tags': 'Apple|airpods|apple watch|apple watch series 3|apple watch '\n",
      "         'cellular|apple watch 4g|apple music|40 million songs on your '\n",
      "         'wrist|apple skateboard ad|apple train station ad|apple roll ad|apple '\n",
      "         'watch skateboard ad|apple watch train station ad|apple watch roll '\n",
      "         'ad|airpods skateboard ad|airpods train station ad|airpods roll '\n",
      "         'ad|apple music skateboard ad|apple music train station ad|apple '\n",
      "         'music roll ad|misbehaving',\n",
      " 'thumbnail_link': 'https://i.ytimg.com/vi/A9k88sMyiJM/default.jpg',\n",
      " 'title': 'Apple Watch Series 3 + Apple Music — Roll — Apple',\n",
      " 'views': 782543}\n",
      "{'_id': 'REZl-ANYKKY',\n",
      " 'category_id': 28,\n",
      " 'channel_title': 'Apple',\n",
      " 'comment_total': 0,\n",
      " 'date': 3.1,\n",
      " 'dislikes': 459,\n",
      " 'etag': '\"m2yskBQFythfE4irbTIeOgYYfBU/S730Ilt-Fi-emsQJvJAAShlR6hM\"',\n",
      " 'id': 28,\n",
      " 'items': {'etag': '\"m2yskBQFythfE4irbTIeOgYYfBU/w5HjcTD82G_XA3xBctS30zS-JpQ\"',\n",
      "           'id': '28',\n",
      "           'kind': 'youtube#videoCategory',\n",
      "           'snippet': {'assignable': True,\n",
      "                       'channelId': 'UCBR8-60-B28hp2BmDPdntcQ',\n",
      "                       'title': 'Science & Technology'}},\n",
      " 'kind': 'youtube#videoCategoryListResponse',\n",
      " 'likes': 1240,\n",
      " 'tags': 'Apple|new|iPhone|iPhone 8|iPhone 8 Plus|iOS '\n",
      "         '11|4.7-inch|5.5-inch|Portrait Lighting|Shot on '\n",
      "         'iPhone|camera|iphonography|smartphone|This Strange Effect|The Shacks',\n",
      " 'thumbnail_link': 'https://i.ytimg.com/vi/REZl-ANYKKY/default.jpg',\n",
      " 'title': 'iPhone 8 Plus — Portraits of Her  — Apple',\n",
      " 'views': 117564}\n"
     ]
    }
   ],
   "source": [
    "for video in collection.find({\"channel_title\" : \"Apple\"}):\n",
    "    pprint.pprint(video)"
   ]
  },
  {
   "cell_type": "markdown",
   "metadata": {},
   "source": [
    "## Question 2"
   ]
  },
  {
   "cell_type": "code",
   "execution_count": 94,
   "metadata": {},
   "outputs": [
    {
     "name": "stdout",
     "output_type": "stream",
     "text": [
      "{'_id': 19, 'videosNumberByCategory': 384}\n",
      "{'_id': 29, 'videosNumberByCategory': 112}\n",
      "{'_id': 15, 'videosNumberByCategory': 928}\n",
      "{'_id': 20, 'videosNumberByCategory': 656}\n",
      "{'_id': 23, 'videosNumberByCategory': 6040}\n",
      "{'_id': 22, 'videosNumberByCategory': 7056}\n",
      "{'_id': 25, 'videosNumberByCategory': 4984}\n",
      "{'_id': 17, 'videosNumberByCategory': 3280}\n",
      "{'_id': 2, 'videosNumberByCategory': 928}\n",
      "{'_id': 26, 'videosNumberByCategory': 6952}\n",
      "{'_id': 27, 'videosNumberByCategory': 2672}\n",
      "{'_id': 43, 'videosNumberByCategory': 16}\n",
      "{'_id': 1, 'videosNumberByCategory': 3024}\n",
      "{'_id': 24, 'videosNumberByCategory': 12808}\n",
      "{'_id': 28, 'videosNumberByCategory': 4096}\n",
      "{'_id': 10, 'videosNumberByCategory': 10000}\n"
     ]
    }
   ],
   "source": [
    "for a in collection.aggregate([{\"$group\" : { \"_id\" : \"$category_id\", \"videosNumberByCategory\" : { \"$sum\" : 1}}}]):\n",
    "    pprint.pprint(a)"
   ]
  },
  {
   "cell_type": "markdown",
   "metadata": {},
   "source": [
    "## Question 3"
   ]
  },
  {
   "cell_type": "code",
   "execution_count": null,
   "metadata": {},
   "outputs": [],
   "source": []
  },
  {
   "cell_type": "markdown",
   "metadata": {},
   "source": [
    "## Question 4"
   ]
  },
  {
   "cell_type": "code",
   "execution_count": null,
   "metadata": {},
   "outputs": [],
   "source": []
  },
  {
   "cell_type": "markdown",
   "metadata": {},
   "source": [
    "## Question 5"
   ]
  },
  {
   "cell_type": "code",
   "execution_count": null,
   "metadata": {},
   "outputs": [],
   "source": []
  },
  {
   "cell_type": "markdown",
   "metadata": {},
   "source": [
    "## Question 6 "
   ]
  },
  {
   "cell_type": "code",
   "execution_count": null,
   "metadata": {},
   "outputs": [],
   "source": []
  }
 ],
 "metadata": {
  "kernelspec": {
   "display_name": "Python 3",
   "language": "python",
   "name": "python3"
  },
  "language_info": {
   "codemirror_mode": {
    "name": "ipython",
    "version": 3
   },
   "file_extension": ".py",
   "mimetype": "text/x-python",
   "name": "python",
   "nbconvert_exporter": "python",
   "pygments_lexer": "ipython3",
   "version": "3.6.6rc1"
  }
 },
 "nbformat": 4,
 "nbformat_minor": 2
}
