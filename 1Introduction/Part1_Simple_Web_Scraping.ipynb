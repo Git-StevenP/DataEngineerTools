{
 "cells": [
  {
   "cell_type": "markdown",
   "metadata": {},
   "source": [
    "# Introduction"
   ]
  },
  {
   "cell_type": "markdown",
   "metadata": {},
   "source": [
    "Avant de commencer, parcourer le fichier README.rst"
   ]
  },
  {
   "cell_type": "markdown",
   "metadata": {},
   "source": [
    "# Requête HTTP "
   ]
  },
  {
   "cell_type": "markdown",
   "metadata": {},
   "source": [
    "Un requête HTTP est une requête basé sur le protocole TCP, elle fait partie de la couche application de la couche OSI. Elle permet d'accéder aux données mise à disposition sur une adresse IP (ou url résolue par un DNS) et un port. \n",
    "\n",
    "Les deux ports les plus utilisé dans le web sont le 80 pour les sites en HTTP et le 443 pour les sites en HTTPS. HTTPS est une variable du protocole HTTP basé sur le protocole TLS.\n",
    "\n",
    "Il existe de nombreux types de requêtes selon la convention `REST`: \n",
    "- GET\n",
    "- POST\n",
    "- PUT \n",
    "- DELETE\n",
    "- UPDATE.\n",
    "\n",
    "Dans notre cas nous allons utiliser la plupart du temps des GET et potentiellement des POST. \n",
    "- Le GET permet comme sont nom l'indique de récupérer des informations en fonction de certain paramètres. \n",
    "- Le POST nécéssite un envoie de données pour récupérer des données. Le body du post est, la plupart du temps, envoyé sous la forme d'un objet JSON.\n",
    "\n",
    "Ces requêtes encapsulent un certain nombre de paramètres qui permettent soient d'identifier une provenance et un utilisateur ou de réaliser différentes actions."
   ]
  },
  {
   "cell_type": "code",
   "execution_count": 1,
   "metadata": {
    "collapsed": true
   },
   "outputs": [],
   "source": [
    "import requests"
   ]
  },
  {
   "cell_type": "code",
   "execution_count": 2,
   "metadata": {},
   "outputs": [
    {
     "data": {
      "text/plain": [
       "200"
      ]
     },
     "execution_count": 2,
     "metadata": {},
     "output_type": "execute_result"
    }
   ],
   "source": [
    "url = \"http://www.esiee.fr/\"\n",
    "response = requests.get(url)\n",
    "response.status_code"
   ]
  },
  {
   "cell_type": "markdown",
   "metadata": {},
   "source": [
    "Il existe deux méthodes pour récupérer le contenu de la page :\n",
    "\n",
    "- `response.text` qui permet de retourner le texte sous la forme d'une chaine de charactères.\n",
    "- `response.content` qui permet de récupérer le contenu de la page sous la forme de bytes"
   ]
  },
  {
   "cell_type": "code",
   "execution_count": 3,
   "metadata": {},
   "outputs": [
    {
     "data": {
      "text/plain": [
       "bytes"
      ]
     },
     "execution_count": 3,
     "metadata": {},
     "output_type": "execute_result"
    }
   ],
   "source": [
    "type(response.content)"
   ]
  },
  {
   "cell_type": "code",
   "execution_count": 4,
   "metadata": {},
   "outputs": [
    {
     "data": {
      "text/plain": [
       "str"
      ]
     },
     "execution_count": 4,
     "metadata": {},
     "output_type": "execute_result"
    }
   ],
   "source": [
    "type(response.text)"
   ]
  },
  {
   "cell_type": "markdown",
   "metadata": {},
   "source": [
    "Pour récupérer les 1000 premiers charactères de la page :"
   ]
  },
  {
   "cell_type": "code",
   "execution_count": 5,
   "metadata": {},
   "outputs": [
    {
     "data": {
      "text/plain": [
       "'<!DOCTYPE html>\\n<!--[if lt IE 7]>      <html class=\"no-js lt-ie9 lt-ie8 lt-ie7\"> <![endif]-->\\n<!--[if IE 7]>         <html class=\"no-js lt-ie9 lt-ie8\"> <![endif]-->\\n<!--[if IE 8]>         <html class=\"no-js lt-ie9\"> <![endif]-->\\n<!--[if IE 9]>         <html class=\"no-js ie9\"> <![endif]-->\\n<!--[if gt IE 9]><!--> <html class=\"no-js\"> <!--<![endif]-->\\n<head profile=\"http://www.w3.org/1999/xhtml/vocab\">\\n  <meta name=\"google-site-verification\" content=\"JnG7DTdhQuWTeSHlWC63CeWpb3WValiOorksYjoYOWI\" />\\n  <meta http-equiv=\"Content-Type\" content=\"text/html; charset=utf-8\" />\\n<meta name=\"Generator\" content=\"Drupal 7 (http://drupal.org)\" />\\n<meta name=\"description\" content=\"ESIEE Paris, l’école de l’innovation technologique | Grande école d’ingénieurs\\r\\nForme dans les domaines des technologies du numérique - Habilitée CTI.\" />\\n<link rel=\"shortcut icon\" href=\"https://www.esiee.fr/sites/all/themes/custom/esiee_theme/favicon.ico\" type=\"image/vnd.microsoft.icon\" />\\n  <title>ESIEE Paris, l’école de l’in'"
      ]
     },
     "execution_count": 5,
     "metadata": {},
     "output_type": "execute_result"
    }
   ],
   "source": [
    "response.text[0:1000]"
   ]
  },
  {
   "cell_type": "markdown",
   "metadata": {},
   "source": [
    "Pour récupérer les headers HTTP de la réponse :"
   ]
  },
  {
   "cell_type": "code",
   "execution_count": 14,
   "metadata": {},
   "outputs": [
    {
     "data": {
      "text/plain": [
       "{'Date': 'Mon, 26 Nov 2018 18:03:30 GMT', 'Server': 'Apache', 'Expires': 'Sun, 19 Nov 1978 05:00:00 GMT', 'Cache-Control': 'no-cache, must-revalidate', 'X-Content-Type-Options': 'nosniff', 'Content-Language': 'fr', 'X-Frame-Options': 'SAMEORIGIN', 'X-Generator': 'Drupal 7 (http://drupal.org)', 'Vary': 'Accept-Encoding', 'Content-Encoding': 'gzip', 'X-Robots-Tag': 'index,follow,noarchive', 'X-XSS-Protection': '1; mode=block', 'X-Download-Options': 'noopen;', 'X-Permitted-Cross-Domain-Policies': 'none', 'Content-Length': '15911', 'Keep-Alive': 'timeout=5, max=150', 'Connection': 'Keep-Alive', 'Content-Type': 'text/html; charset=utf-8'}"
      ]
     },
     "execution_count": 14,
     "metadata": {},
     "output_type": "execute_result"
    }
   ],
   "source": [
    "response.headers"
   ]
  },
  {
   "cell_type": "markdown",
   "metadata": {},
   "source": [
    "On peut modifier les paramêtres de la requête et/ou ses headers. On peut par exemple ajouter un UserAgent et un timeout de 10 secondes:"
   ]
  },
  {
   "cell_type": "code",
   "execution_count": 6,
   "metadata": {},
   "outputs": [
    {
     "data": {
      "text/plain": [
       "b'<!DOCTYPE html>\\n<!--[if lt IE 7]>      <html class=\"no-js lt-ie9 lt-ie8 lt-ie7\"> <![endif]-->\\n<!--[if IE 7]>         <html class=\"no-js lt-ie9 lt-ie8\"> <![endif]-->\\n<!--[if IE 8]>         <html class=\"no-js lt-ie9\"> <![endif]-->\\n<!--[if IE 9]>         <html class=\"no-js ie9\"> <![endif]-->\\n<!--[if gt IE 9]><!--> <html class=\"no-js\"> <!--<![endif]-->\\n<head profile=\"http://www.w3.org/1999/xhtml/vocab\">\\n  <meta name=\"google-site-verification\" content=\"JnG7DTdhQuWTeSHlWC63CeWpb3WValiOorksYjoYOWI\" />\\n  <meta http-equiv=\"Content-Type\" content=\"text/html; charset=utf-8\" />\\n<meta name=\"Generator\" content=\"Drupal 7 (http://drupal.org)\" />\\n<meta name=\"description\" content=\"ESIEE Paris, l\\xe2\\x80\\x99\\xc3\\xa9cole de l\\xe2\\x80\\x99innovation technologique | Grande \\xc3\\xa9cole d\\xe2\\x80\\x99ing\\xc3\\xa9nieurs\\r\\nForme dans les domaines des technologies du num\\xc3\\xa9rique - Habilit\\xc3\\xa9e CTI.\" />\\n<link rel=\"shortcut icon\" href=\"https://www.esiee.fr/sites/all/themes/custom/esiee_theme/favicon.ico\" type=\"image/vnd.microsoft.icon\" />\\n  <title>ESIEE Paris, l\\xe2\\x80\\x99'"
      ]
     },
     "execution_count": 6,
     "metadata": {},
     "output_type": "execute_result"
    }
   ],
   "source": [
    "headers = {'User-Agent': 'Mozilla/5.0 (Macintosh; Intel Mac OS X 10_10_1) AppleWebKit/537.36 (KHTML, like Gecko) Chrome/39.0.2171.95 Safari/537.36'}\n",
    "response = requests.get(url, headers=headers, timeout = 10)\n",
    "response.content[0:1000]"
   ]
  },
  {
   "cell_type": "markdown",
   "metadata": {},
   "source": [
    "## Exercice"
   ]
  },
  {
   "cell_type": "markdown",
   "metadata": {},
   "source": [
    "## Exercice 1\n",
    "\n",
    "- Créer une classe Python permettant de faire des requêtes HTTP.\n",
    "- Cette classe doit utiliser toujours le même UserAgent.\n",
    "- Le TimeOut sera spécifié à chaque appelle avec une valeur par défaut.\n",
    "- Un mécanisme de retry sera mis en place de façon recursive.\n",
    "\n",
    "## Exercice 2\n",
    "\n",
    "- Faire une fonction permettant de supprimer tous les espaces supperflus d'une string\n",
    "- Faire une fonction qui prend une string html et renvois une string intelligible (enlever les caractères spéciaux,\n",
    "- Récupérer le domaine en fonction d'un url"
   ]
  },
  {
   "cell_type": "markdown",
   "metadata": {},
   "source": [
    "Exercice 1"
   ]
  },
  {
   "cell_type": "code",
   "execution_count": 97,
   "metadata": {},
   "outputs": [
    {
     "data": {
      "text/plain": [
       "'<!DOCTYPE html>\\n<!--[if lt IE 7]>      <html class=\"no-js lt-ie9 lt-ie8 lt-ie7\"> <![endif]-->\\n<!--[if IE 7]>         <html class=\"no-js lt-ie9 lt-ie8\"> <![endif]-->\\n<!--[if IE 8]>         <html class=\"no-js lt-ie9\"> <![endif]-->\\n<!--[if IE 9]>         <html class=\"no-js ie9\"> <![endif]-->\\n<!--[if gt IE 9]><!--> <html class=\"no-js\"> <!--<![endif]-->\\n<head profile=\"http://www.w3.org/1999/xhtml/vocab\">\\n  <meta name=\"google-site-verification\" content=\"JnG7DTdhQuWTeSHlWC63CeWpb3WValiOorksYjoYOWI\" />\\n  <meta http-equiv=\"Content-Type\" content=\"text/html; charset=utf-8\" />\\n<meta name=\"Generator\" content=\"Drupal 7 (http://drupal.org)\" />\\n<meta name=\"description\" content=\"ESIEE Paris, l’école de l’innovation technologique | Grande école d’ingénieurs\\r\\nForme dans les domaines des technologies du numérique - Habilitée CTI.\" />\\n<link rel=\"shortcut icon\" href=\"https://www.esiee.fr/sites/all/themes/custom/esiee_theme/favicon.ico\" type=\"image/vnd.microsoft.icon\" />\\n  <title>ESIEE Paris, l’école de l’in'"
      ]
     },
     "execution_count": 97,
     "metadata": {},
     "output_type": "execute_result"
    }
   ],
   "source": [
    "class Request:\n",
    "    \"\"\"Classe permettant de faire des requêtes HTTP\"\"\"\n",
    "\n",
    "    \n",
    "    def __init__(self):\n",
    "        \"\"\"Par défaut, notre surface est vide\"\"\"\n",
    "        self.userAgent = {'User-Agent' : \"Chrome/39.0.2171.95\"}\n",
    "        self.timeOut = 10\n",
    "        \n",
    "    def makeRequest(self, url, retry = 10):\n",
    "        try:\n",
    "            response = requests.get(url, timeout=self.timeOut)\n",
    "        except:\n",
    "            return \"Timeout\"\n",
    "        if response.status_code == 200 or retry <= 0:\n",
    "            return response.text[0:1000]\n",
    "        else:\n",
    "            print(\"Failed request\")\n",
    "            print(response.status_code)\n",
    "            self.makeRequest(url, retry-1)\n",
    "\n",
    "request = Request()\n",
    "request.makeRequest(\"http://www.esiee.fr/\")"
   ]
  },
  {
   "cell_type": "markdown",
   "metadata": {},
   "source": [
    "Exercice 2"
   ]
  },
  {
   "cell_type": "code",
   "execution_count": 72,
   "metadata": {},
   "outputs": [
    {
     "name": "stdout",
     "output_type": "stream",
     "text": [
      "This sentence is way too long\n",
      "Bonjout\n",
      "Le nom de domaine de cet url est : 'com'\n"
     ]
    }
   ],
   "source": [
    "import re\n",
    "def removeSpaces(sentence):\n",
    "    print(\" \".join(sentence.split()))\n",
    "\n",
    "def removeSpecialChar(htmlString):\n",
    "    regex = '[^A-Za-z0-9]+'\n",
    "    print(re.sub(regex, '', htmlString))\n",
    "\n",
    "def getURLDomain(url):\n",
    "    splittedURL = url.split(\".\")\n",
    "    print(\"Le nom de domaine de cet url est : '\" + splittedURL[-1] + \"'\")\n",
    "\n",
    "\n",
    "removeSpaces(\"  This sentence   is way too     long\")\n",
    "removeSpecialChar(\"Bon'jou---t\")\n",
    "getURLDomain('www.facebook.com')"
   ]
  },
  {
   "cell_type": "markdown",
   "metadata": {},
   "source": [
    "# Exploitation du HTML  "
   ]
  },
  {
   "cell_type": "markdown",
   "metadata": {},
   "source": [
    "Ici, il faut récupérer le code HTML d'un site web à partir d'une requête. Lorsque vous avez récupéré le texte d'un site il faut le parser. Pour cela, on utilise BeautifulSoup qui permet de transformer la structure HTML en objet Python. Cela permet de récupérer efficacement les données qui nous intéresse.\n",
    "\n",
    "Pour les webmasters, le blocage le plus souvent mis en place et un blocage sur le User-Agent. Le User-Agent est un paramètre intégré dans la requête HTTP réalisé par le Navigateur pour envoyer au front des informations basiques :\n",
    "\n",
    "- la version du Navigateur,\n",
    "- la version de l'OS\n",
    "- Le type de gestionnaire graphique (Gecko)\n",
    "- le type de device utilisé"
   ]
  },
  {
   "cell_type": "markdown",
   "metadata": {},
   "source": [
    "Exemple de User Agent :  \n",
    "\n",
    "`Mozilla/5.0 (Windows NT 6.1; Win64; x64; rv:47.0) Gecko/20100101 Firefox/47.0`"
   ]
  },
  {
   "cell_type": "markdown",
   "metadata": {},
   "source": [
    "Commençons à utiliser `BeautifulSoup`, pour l'installer : "
   ]
  },
  {
   "cell_type": "code",
   "execution_count": 73,
   "metadata": {},
   "outputs": [
    {
     "name": "stdout",
     "output_type": "stream",
     "text": [
      "Collecting bs4\n",
      "  Downloading https://files.pythonhosted.org/packages/10/ed/7e8b97591f6f456174139ec089c769f89a94a1a4025fe967691de971f314/bs4-0.0.1.tar.gz\n",
      "Requirement already satisfied: beautifulsoup4 in c:\\programdata\\anaconda3\\lib\\site-packages (from bs4) (4.6.0)\n",
      "Building wheels for collected packages: bs4\n",
      "  Running setup.py bdist_wheel for bs4: started\n",
      "  Running setup.py bdist_wheel for bs4: finished with status 'done'\n",
      "  Stored in directory: C:\\Users\\poulains\\AppData\\Local\\pip\\Cache\\wheels\\a0\\b0\\b2\\4f80b9456b87abedbc0bf2d52235414c3467d8889be38dd472\n",
      "Successfully built bs4\n",
      "Installing collected packages: bs4\n",
      "Successfully installed bs4-0.0.1\n"
     ]
    }
   ],
   "source": [
    "!pip install bs4"
   ]
  },
  {
   "cell_type": "code",
   "execution_count": 74,
   "metadata": {
    "collapsed": true
   },
   "outputs": [],
   "source": [
    "import requests\n",
    "from bs4 import BeautifulSoup"
   ]
  },
  {
   "cell_type": "markdown",
   "metadata": {},
   "source": [
    "Pour transformer une requête (requests) en objet BeautifulSoup :"
   ]
  },
  {
   "cell_type": "code",
   "execution_count": 75,
   "metadata": {
    "collapsed": true
   },
   "outputs": [],
   "source": [
    "response = requests.get(url)\n",
    "soup = BeautifulSoup(response.text, \"lxml\")"
   ]
  },
  {
   "cell_type": "markdown",
   "metadata": {},
   "source": [
    "Il se peut qu'un message d'erreur arrive à ce point là si vous n'avez pas la librarie `lxml` installée, pour se faire vous avez juste à lancer la commande suivante : "
   ]
  },
  {
   "cell_type": "code",
   "execution_count": 76,
   "metadata": {},
   "outputs": [
    {
     "name": "stdout",
     "output_type": "stream",
     "text": [
      "Requirement already satisfied: lxml in c:\\programdata\\anaconda3\\lib\\site-packages (4.1.0)\n"
     ]
    }
   ],
   "source": [
    "!pip install lxml"
   ]
  },
  {
   "cell_type": "markdown",
   "metadata": {},
   "source": [
    "Pour trouver tous les liens d'une page on récupère la balise `a` qui permet de gérer les liens en HTML  :"
   ]
  },
  {
   "cell_type": "code",
   "execution_count": 77,
   "metadata": {},
   "outputs": [
    {
     "data": {
      "text/plain": [
       "[<a href=\"#\">\n",
       " <i class=\"icon-parametres\"></i>\n",
       " </a>,\n",
       " <a href=\"https://gmail.com\" target=\"_blank\" title=\"Webmail ESIEE Paris\"><i><img alt=\"\" src=\"https://www.esiee.fr/sites/default/files/menu_icons/menu_icon_950.png\"/> </i><span>Webmail ESIEE Paris</span></a>,\n",
       " <a href=\"https://planif.esiee.fr/direct/\" target=\"_blank\" title=\"Emploi du temps général\"><i><img alt=\"\" src=\"https://www.esiee.fr/sites/default/files/menu_icons/menu_icon_1331.png\"/> </i><span>Emploi du temps général</span></a>,\n",
       " <a href=\"https://planif.esiee.fr/jsp/custom/esiee/easyMyPlanning.jsp\" target=\"_blank\" title=\"Emploi du temps individuel\"><i><img alt=\"\" src=\"https://www.esiee.fr/sites/default/files/menu_icons/menu_icon_1332.png\"/> </i><span>Emploi du temps individuel</span></a>,\n",
       " <a href=\"https://intra.esiee.fr\" target=\"_blank\" title=\"Extranet\"><i><img alt=\"\" src=\"https://www.esiee.fr/sites/default/files/menu_icons/menu_icon_951.png\"/> </i><span>Extranet</span></a>,\n",
       " <a href=\"https://esiee.blackboard.com\" target=\"_blank\" title=\"iCampus\"><i><img alt=\"\" src=\"https://www.esiee.fr/sites/default/files/menu_icons/menu_icon_1311.png\"/> </i><span>iCampus</span></a>,\n",
       " <a href=\"http://e5.onthehub.com/WebStore/Welcome.aspx?vsro=8&amp;ws=45AD823E-799B-E011-969D-0030487D8897&amp;JSEnabled=1\" target=\"_blank\" title=\"Microsoft DreamSpark\"><i><img alt=\"\" src=\"https://www.esiee.fr/sites/default/files/menu_icons/menu_icon_1696.png\"/> </i><span>Microsoft DreamSpark</span></a>,\n",
       " <a href=\"/en\">\n",
       " <i>\n",
       " <img alt=\"English\" src=\"/sites/all/themes/custom/esiee_theme/assets/images/flag-en.png\"/>\n",
       " </i>\n",
       " </a>,\n",
       " <a href=\"https://www.facebook.com/esieeparis\" target=\"_blank\">\n",
       " <i class=\"fa fa-facebook\"></i>\n",
       " </a>,\n",
       " <a href=\"https://twitter.com/ESIEEPARIS\" target=\"_blank\">\n",
       " <i class=\"fa fa-twitter\"></i>\n",
       " </a>]"
      ]
     },
     "execution_count": 77,
     "metadata": {},
     "output_type": "execute_result"
    }
   ],
   "source": [
    "soup.find_all(\"a\")[0:10]"
   ]
  },
  {
   "cell_type": "markdown",
   "metadata": {},
   "source": [
    "On peut préciser la classe HTML voulue  pour l'ensemble des `a`:\n",
    "\n",
    "```python\n",
    "soup.find_all(class_=\"<CLASS_NAME>\")[0:10]\n",
    "```\n",
    "\n",
    "Ici par exemple: "
   ]
  },
  {
   "cell_type": "code",
   "execution_count": 78,
   "metadata": {},
   "outputs": [
    {
     "data": {
      "text/plain": [
       "[<div class=\"slide slide-content\">\n",
       " <span class=\"slide-content-date inline-block\"><span class=\"date-display-single\">02.10.2018</span></span>\n",
       " <span class=\"slide-content-theme inline-block is-uppercase\">Journée portes ouvertes</span>\n",
       " <div class=\"clearfix\"></div>\n",
       " <div class=\"slide-content-img pull-left\"><!-- scald=1951:news_thumbnail --><img alt=\"Jounées portes ouvertes ESIEE Paris 2018-2019\" height=\"90\" src=\"https://www.esiee.fr/sites/default/files/styles/news/public/thumbnails/image/illustration-jpo2_0.png?itok=beyrHUYj\" title=\"Journées portes ouvertes ESIEE Paris 2018-2019\" width=\"120\"/><!-- END scald=1951 --></div>\n",
       " <span class=\"slide-content-title\"><a class=\"is-uppercase\" href=\"/fr/actualite/journee-portes-ouvertes-15-decembre-2018\">Portes Ouvertes - Samedi 15 décembre 2018 de 13h à 18h</a></span>\n",
       " <div class=\"clearfix\"></div>\n",
       " <p class=\"slide-content-desc\">Bien choisir son école, c'est aussi la rencontrer !</p> </div>,\n",
       " <div class=\"slide slide-content\">\n",
       " <span class=\"slide-content-date inline-block\"><span class=\"date-display-single\">07.12.2018</span></span>\n",
       " <span class=\"slide-content-theme inline-block is-uppercase\">Evènements</span>\n",
       " <div class=\"clearfix\"></div>\n",
       " <div class=\"slide-content-img pull-left\"><!-- scald=1877:news_thumbnail --><img alt=\"Cérémonie des diplômes ESIEE Paris 2018\" height=\"90\" src=\"https://www.esiee.fr/sites/default/files/styles/news/public/thumbnails/image/illustration-ceremonie-2.jpg?itok=wh10eMjF\" title=\"Cérémonie des diplômes ESIEE Paris 2018\" width=\"120\"/><!-- END scald=1877 --></div>\n",
       " <span class=\"slide-content-title\"><a class=\"is-uppercase\" href=\"/fr/actualite/ceremonie-remise-de-diplomes-2018\"> Cérémonie de remise des diplômes 2018</a></span>\n",
       " <div class=\"clearfix\"></div>\n",
       " <p class=\"slide-content-desc\">Près de 330 élèves issus de la formation d'ingénieur seront diplômés le 7 décembre prochain.</p> </div>,\n",
       " <div class=\"slide slide-content\">\n",
       " <span class=\"slide-content-date inline-block\"><span class=\"date-display-single\">29.11.2018</span></span>\n",
       " <span class=\"slide-content-theme inline-block is-uppercase\">Evènements</span>\n",
       " <div class=\"clearfix\"></div>\n",
       " <div class=\"slide-content-img pull-left\"><!-- scald=1224:news_thumbnail --><img alt=\"illustration-table-ronde-filles-amphi.jpg\" height=\"90\" src=\"https://www.esiee.fr/sites/default/files/styles/news/public/thumbnails/image/illustration-table-ronde-filles-amphi.jpg?itok=V_P7UehK\" title=\"Illustration table ronde - Féminisation du métier d'ingénieur\" width=\"120\"/><!-- END scald=1224 --></div>\n",
       " <span class=\"slide-content-title\"><a class=\"is-uppercase\" href=\"/fr/actualite/table-ronde-feminisation-metier-ingenieur-2018\">Table-ronde \"Et Si Ingénieur s'Ecrivait avec un E\" avec le soutien d'Elles bougent</a></span>\n",
       " <div class=\"clearfix\"></div>\n",
       " <p class=\"slide-content-desc\">Des lycéens sensibilisés à ESIEE Paris sur la féminisation des études d’ingénieures.</p> </div>,\n",
       " <div class=\"slide slide-content\">\n",
       " <span class=\"slide-content-date inline-block\"><span class=\"date-display-single\">24.11.2018</span></span>\n",
       " <span class=\"slide-content-theme inline-block is-uppercase\">Evènements</span>\n",
       " <div class=\"clearfix\"></div>\n",
       " <div class=\"slide-content-img pull-left\"><!-- scald=1986:news_thumbnail --><img alt=\"HFLan, le rendez-vous des gamers\" height=\"90\" src=\"https://www.esiee.fr/sites/default/files/styles/news/public/thumbnails/image/illustration-hflan_1.jpg?itok=8383zB_f\" title=\"HFLan, le rendez-vous des gamers\" width=\"120\"/><!-- END scald=1986 --></div>\n",
       " <span class=\"slide-content-title\"><a class=\"is-uppercase\" href=\"/fr/actualite/HFLAN-novembre-2018\">HFLAN, le rendez-vous incontournable des gamers</a></span>\n",
       " <div class=\"clearfix\"></div>\n",
       " <p class=\"slide-content-desc\">HFLAN, évènement vidéoludique, revient pour la 17e édition les 24 et 25 novembre prochain.</p> </div>,\n",
       " <div class=\"slide slide-content\">\n",
       " <span class=\"slide-content-date inline-block\"><span class=\"date-display-single\">10.11.2018</span></span>\n",
       " <span class=\"slide-content-theme inline-block is-uppercase\">Salons</span>\n",
       " <div class=\"clearfix\"></div>\n",
       " <div class=\"slide-content-img pull-left\"><!-- scald=615:news_thumbnail --><img alt=\"salon ESIEE Paris\" height=\"90\" src=\"https://www.esiee.fr/sites/default/files/styles/news/public/etudiant-polo-esiee-salon.jpg?itok=mAuNEvFf\" title=\"salon ESIEE Paris\" width=\"120\"/><!-- END scald=615 --></div>\n",
       " <span class=\"slide-content-title\"><a class=\"is-uppercase\" href=\"/fr/actualite/salon-etudiants-novembre-2018\">Salons étudiants : rendez-vous avec ESIEE Paris !</a></span>\n",
       " <div class=\"clearfix\"></div>\n",
       " <p class=\"slide-content-desc\">Venez vous renseigner sur nos formations. Trois rendez-vous avec ESIEE Paris en novembre.</p> </div>]"
      ]
     },
     "execution_count": 78,
     "metadata": {},
     "output_type": "execute_result"
    }
   ],
   "source": [
    "soup.find_all(class_=\"slide\")[0:5]"
   ]
  },
  {
   "cell_type": "markdown",
   "metadata": {},
   "source": [
    "Pour récupérer le text sans les balises HTML :"
   ]
  },
  {
   "cell_type": "code",
   "execution_count": 79,
   "metadata": {},
   "outputs": [
    {
     "data": {
      "text/plain": [
       "' \\n\\n\\n\\n\\n\\n\\nESIEE Paris, l’école de l’innovation technologique | Grande école d’ingénieurs | ESIEE Paris\\n\\n\\n\\n\\n\\n<!--/*--><![CDATA[/*><!--*/\\n#sliding-popup.sliding-popup-bottom,#sliding-popup.sliding-popup-bottom .eu-cookie-withdraw-banner,.eu-cookie-withdraw-tab{background:#e9e7e2;}#sliding-popup.sliding-popup-bottom.eu-cookie-withdraw-wrapper{background:transparent}#sliding-popup .popup-content #popup-text h1,#sliding-popup .popup-content #popup-text h2,#sliding-popup .popup-content #popup-text h3,#sliding-popup .popup-content #popup-text p,.eu-cookie-compliance-more-button,.eu-cookie-compliance-secondary-button,.eu-cookie-withdraw-tab{color:#48444e !important;}.eu-cookie-withdraw-tab{border-color:#48444e;}\\n\\n/*]]>*/-->\\n\\n\\n\\n\\n\\n\\n\\n\\n\\n \\n\\n\\n\\n\\n\\n\\n\\n\\n\\n\\n\\nLes outils ESIEE Paris Webmail ESIEE Paris Emploi du temps général Emploi du temps individuel Extranet iCampus Microsoft DreamSpark \\n\\n\\n\\n\\n\\n\\n\\n\\n\\n\\n\\n\\n\\n\\n\\n\\n\\n\\n\\n\\n\\n\\n\\n\\n\\n\\n\\n\\n\\n\\n\\n\\n\\n\\n\\n\\n\\n\\n\\n\\n\\n\\n\\n\\n\\n\\n menu\\nFormations\\n\\n\\nRETOUR menu\\nFormations ESIEE ParisIngénieur\\n\\n\\nIngénieur\\n'"
      ]
     },
     "execution_count": 79,
     "metadata": {},
     "output_type": "execute_result"
    }
   ],
   "source": [
    "soup.text[0:1000]"
   ]
  },
  {
   "cell_type": "markdown",
   "metadata": {},
   "source": [
    "## Exercice\n",
    "### Exercice 3\n",
    "\n",
    "Améliorer la classe développé précédemment.\n",
    "\n",
    "- Ajouter une méthode pour récupérer l'objet soup d'un url\n",
    "- Récupérer une liste de User Agent et effectuer une rotation aléatoire sur celui à utiliser\n",
    "- Utiliser cette classe pour parser une page HTML et récupérer : le titre, tous les H1 (si ils existes), les liens vers les images, les liens sortants vers d'autres sites, et le texte principal.\n",
    "\n",
    "Parsing d'un sitemaps pour récupérer une listes de liens avec les informations disponibles. -> Stocker dans un dictionnaire et dans un fichier JSON local."
   ]
  },
  {
   "cell_type": "markdown",
   "metadata": {},
   "source": [
    "Exercice 3"
   ]
  },
  {
   "cell_type": "code",
   "execution_count": 155,
   "metadata": {},
   "outputs": [
    {
     "name": "stdout",
     "output_type": "stream",
     "text": [
      "Le titre de la page est :\n",
      "\n",
      "[<title>ESIEE Paris, l’école de l’innovation technologique | Grande école d’ingénieurs | ESIEE Paris</title>]\n",
      "Les H1 de la page sont :\n",
      "\n",
      "[]\n",
      "Liens vers les images sont :\n",
      "\n",
      "https://www.esiee.fr/sites/default/files/menu_icons/menu_icon_950.png\n",
      "https://www.esiee.fr/sites/default/files/menu_icons/menu_icon_1331.png\n",
      "https://www.esiee.fr/sites/default/files/menu_icons/menu_icon_1332.png\n",
      "https://www.esiee.fr/sites/default/files/menu_icons/menu_icon_951.png\n",
      "https://www.esiee.fr/sites/default/files/menu_icons/menu_icon_1311.png\n",
      "https://www.esiee.fr/sites/default/files/menu_icons/menu_icon_1696.png\n",
      "/sites/all/themes/custom/esiee_theme/assets/images/flag-en.png\n",
      "/sites/all/themes/custom/esiee_theme/assets/images/icon-socialnetworks.png\n",
      "https://www.esiee.fr/sites/all/themes/custom/esiee_theme/logo.png\n",
      "https://www.esiee.fr/sites/default/files/home-bandeau-1_0.png\n",
      "https://www.esiee.fr/sites/default/files/home-bandeau-4.png\n",
      "https://www.esiee.fr/sites/default/files/home-bandeau-3.png\n",
      "https://www.esiee.fr/sites/default/files/illustration-ingenieurs-app.-home.png\n",
      "https://www.esiee.fr/sites/default/files/home-bandeau-1_0.png\n",
      "https://www.esiee.fr/sites/default/files/home-bandeau-4.png\n",
      "https://www.esiee.fr/sites/default/files/home-bandeau-3.png\n",
      "https://www.esiee.fr/sites/default/files/illustration-ingenieurs-app.-home.png\n",
      "https://www.esiee.fr/sites/default/files/styles/news/public/thumbnails/image/illustration-jpo2_0.png?itok=beyrHUYj\n",
      "https://www.esiee.fr/sites/default/files/styles/news/public/thumbnails/image/illustration-ceremonie-2.jpg?itok=wh10eMjF\n",
      "https://www.esiee.fr/sites/default/files/styles/news/public/thumbnails/image/illustration-table-ronde-filles-amphi.jpg?itok=V_P7UehK\n",
      "https://www.esiee.fr/sites/default/files/styles/news/public/thumbnails/image/illustration-hflan_1.jpg?itok=8383zB_f\n",
      "https://www.esiee.fr/sites/default/files/styles/news/public/etudiant-polo-esiee-salon.jpg?itok=mAuNEvFf\n",
      "https://www.esiee.fr/sites/default/files/styles/news/public/thumbnails/image/illustration-session-preparation-2018.jpg?itok=cWAmn4Fd\n",
      "https://www.esiee.fr/sites/default/files/styles/news/public/thumbnails/image/illustration-futurdays2018.png?itok=-QVUGEgE\n",
      "https://www.esiee.fr/sites/default/files/styles/news/public/thumbnails/image/illustration-forum-descartes-2018-en.png?itok=3wE6FWqp\n",
      "https://www.esiee.fr/sites/default/files/styles/news/public/thumbnails/image/illustration-game-jam-2018.jpg?itok=7rBHYn1b\n",
      "https://www.esiee.fr/sites/default/files/styles/news/public/thumbnails/image/illustration-cybersecurite_0.jpg?itok=CyvatCA6\n",
      "https://www.esiee.fr/sites/default/files/styles/news/public/thumbnails/image/illustration-tremplin-pour-emploi.jpg?itok=35rPZBXp\n",
      "https://www.esiee.fr/sites/default/files/styles/news/public/thumbnails/image/illustration-euroskills-2018.jpg?itok=UQ9TcDVV\n",
      "https://www.esiee.fr/sites/default/files/styles/news/public/thumbnails/image/trophee-femmes.png?itok=GEPGidaY\n",
      "https://www.esiee.fr/sites/default/files/illustration-home-recherche.png\n",
      "https://www.esiee.fr/sites/default/files/illustration-home-entreprises_0.png\n",
      "https://www.esiee.fr/sites/default/files/styles/promotion_desktop/public/thumbnails/image/w1_banniere_y-lecun_2018.jpg?itok=U4cLWVkS\n",
      "https://www.esiee.fr/sites/default/files/styles/promotion_desktop/public/thumbnails/image/w2_banniere_y-lecun_2018.jpg?itok=25zEjlMX\n",
      "https://www.esiee.fr/sites/default/files/styles/promotion_desktop/public/thumbnails/image/w3_banniere_y-lecun_2018.jpg?itok=QrauGNrh\n",
      "https://www.esiee.fr/sites/default/files/styles/promotion_desktop/public/thumbnails/image/w4_banniere_y-lecun_2018.jpg?itok=oRSqYIT5\n",
      "https://www.esiee.fr/sites/default/files/styles/promotion_desktop/public/thumbnails/image/w1-banniere-jpo-2018-2019.jpg?itok=h4slIqaj\n",
      "https://www.esiee.fr/sites/default/files/styles/promotion_desktop/public/thumbnails/image/w2-banniere-jpo-2018-2019.jpg?itok=DQj6E7HA\n",
      "https://www.esiee.fr/sites/default/files/styles/promotion_desktop/public/thumbnails/image/w3-banniere-jpo-2018-2019.jpg?itok=6azdFU5m\n",
      "https://www.esiee.fr/sites/default/files/styles/promotion_tablet/public/thumbnails/image/t1-banniere_y-lecun_2018.jpg?itok=vsQur3FQ\n",
      "https://www.esiee.fr/sites/default/files/styles/promotion_tablet/public/thumbnails/image/t2-banniere_y-lecun_2018.jpg?itok=M7Zb4xVg\n",
      "https://www.esiee.fr/sites/default/files/styles/promotion_tablet/public/thumbnails/image/t3-banniere_y-lecun_2018.jpg?itok=So6cOzeT\n",
      "https://www.esiee.fr/sites/default/files/styles/promotion_tablet/public/thumbnails/image/t4-banniere_y-lecun_2018.jpg?itok=4EgVy04y\n",
      "https://www.esiee.fr/sites/default/files/styles/promotion_tablet/public/thumbnails/image/t1-banniere-jpo-2018-2019.jpg?itok=GnA2_N8h\n",
      "https://www.esiee.fr/sites/default/files/styles/promotion_tablet/public/thumbnails/image/t2-banniere-jpo-2018-2019.jpg?itok=2UfbJGL5\n",
      "https://www.esiee.fr/sites/default/files/styles/promotion_tablet/public/thumbnails/image/t3-banniere-jpo-2018-2019.jpg?itok=XQcTvGEs\n",
      "https://www.esiee.fr/sites/default/files/styles/promotion_mobile/public/thumbnails/image/m1-banniere_y-lecun_2018.jpg?itok=Xp7uhqBP\n",
      "https://www.esiee.fr/sites/default/files/styles/promotion_mobile/public/thumbnails/image/m2-banniere_y-lecun_2018.jpg?itok=xSTjS5Uc\n",
      "https://www.esiee.fr/sites/default/files/styles/promotion_mobile/public/thumbnails/image/m3-banniere_y-lecun_2018.jpg?itok=abQRHLGM\n",
      "https://www.esiee.fr/sites/default/files/styles/promotion_mobile/public/thumbnails/image/m4-banniere_y-lecun_2018.jpg?itok=hkZ1Y6-0\n",
      "https://www.esiee.fr/sites/default/files/styles/promotion_mobile/public/thumbnails/image/m1-banniere-jpo-2018-2019.jpg?itok=ygmNZhG8\n",
      "https://www.esiee.fr/sites/default/files/styles/promotion_mobile/public/thumbnails/image/m2-banniere-jpo-2018-2019.jpg?itok=vnFZYZ8L\n",
      "https://www.esiee.fr/sites/default/files/styles/promotion_mobile/public/thumbnails/image/m3-banniere-jpo-2018-2019.jpg?itok=VGc5602x\n",
      "https://www.esiee.fr/sites/default/files/styles/skill/public/illustration-data-reseaux.jpg?itok=6gaT9afn\n",
      "https://www.esiee.fr/sites/default/files/styles/skill/public/ill-fil-systinfo-13709classedesignencciparisidf.jpeg?itok=KQBsTtUL\n",
      "https://www.esiee.fr/sites/default/files/styles/skill/public/ill-fil-energies.jpg?itok=rl0sINUe\n",
      "https://www.esiee.fr/sites/default/files/styles/skill/public/thumbnails/image/systemes-electroniques.jpg?itok=MNp66bp8\n",
      "https://www.esiee.fr/sites/default/files/styles/skill/public/robot-freescale.jpg?itok=90f316Qp\n",
      "https://www.esiee.fr/sites/default/files/styles/skill/public/thumbnails/image/informatique.jpg?itok=GAlo4ZxJ\n",
      "https://www.esiee.fr/sites/default/files/styles/skill/public/thumbnails/image/illustration-ms-esante.jpg?itok=mvnGlb-m\n",
      "https://www.esiee.fr/sites/default/files/styles/skill/public/ill-fil-3d-voiture.jpg?itok=tFcX4Tlu\n",
      "https://www.esiee.fr/sites/default/files/styles/skill/public/thumbnails/image/illustration-cybersecurite_0.jpg?itok=vGyYPpHy\n",
      "https://www.esiee.fr/sites/default/files/styles/skill/public/ill-fil-genieindus-12997candreimerkulovcciparisiledefrance.jpg?itok=NN_nEhue\n",
      "https://www.esiee.fr/sites/default/files/styles/skill/public/groupe-etudiants-esiee-paris_0.jpg?itok=O3CGrsEY\n",
      "https://www.esiee.fr/sites/default/files/styles/skill/public/ill-fil-bio-11118cuwimages_cciparisidf.jpg?itok=pGETF_w_\n",
      "https://www.esiee.fr/sites/default/files/styles/skill/public/ill-fil-embarques.jpg?itok=NOSGV_m7\n",
      "https://www.esiee.fr/sites/default/files/logo-cci-paris.png\n",
      "Liens sortant vers d'autres sites : \n",
      "\n",
      "#\n",
      "https://gmail.com\n",
      "https://planif.esiee.fr/direct/\n",
      "https://planif.esiee.fr/jsp/custom/esiee/easyMyPlanning.jsp\n",
      "https://intra.esiee.fr\n",
      "https://esiee.blackboard.com\n",
      "http://e5.onthehub.com/WebStore/Welcome.aspx?vsro=8&ws=45AD823E-799B-E011-969D-0030487D8897&JSEnabled=1\n",
      "/en\n",
      "https://www.facebook.com/esieeparis\n",
      "https://twitter.com/ESIEEPARIS\n",
      "https://www.linkedin.com/edu/school?id=20041&trk=tyah&trkInfo=idx%3A4-1-4%2CtarId%3A1425998561386%2Ctas%3Aesiee+paris\n",
      "http://www.youtube.com/esieeparis\n",
      "https://www.instagram.com/esieeparis/\n",
      "#toolbar-footer\n",
      "/fr\n",
      "#\n",
      "https://www.esiee.fr/fr/formations\n",
      "#\n",
      "https://www.esiee.fr/fr/formations\n",
      "#\n",
      "#\n",
      "https://www.esiee.fr/fr/formations/ingenieur/ingenieur-esiee-paris\n",
      "https://www.esiee.fr/fr/formations/ingenieur/premier-cycle\n",
      "#\n",
      "#\n",
      "https://www.esiee.fr/fr/formations/ingenieur/cycle-ingenieur\n",
      "https://www.esiee.fr/fr/formations/ingenieur/cycle-ingenieur/enseignements-premiere-annee\n",
      "https://www.esiee.fr/fr/formations/ingenieur/cycle-ingenieur/enseignements-deuxieme-troisieme-annee\n",
      "https://www.esiee.fr/fr/formations/ingenieur/cycle-ingenieur/profils-metiers\n",
      "#\n",
      "#\n",
      "https://www.esiee.fr/fr/formations/ingenieur/filieres\n",
      "https://www.esiee.fr/fr/formations/ingenieur/filieres/informatique\n",
      "https://www.esiee.fr/fr/formations/ingenieur/filieres/cybersecurite-systemes-information\n",
      "https://www.esiee.fr/fr/formations/ingenieur/filieres/datascience-intelligence-artificielle\n",
      "https://www.esiee.fr/fr/formations/ingenieur/filieres/systemes-embarques\n",
      "https://www.esiee.fr/fr/formations/ingenieur/filieres/systemes-electroniques\n",
      "https://www.esiee.fr/fr/formations/ingenieur/filieres/genie-industriel\n",
      "https://www.esiee.fr/fr/formations/ingenieur/filieres/biotechnologies-esante\n",
      "https://www.esiee.fr/fr/formations/ingenieur/filieres/energie\n",
      "https://www.esiee.fr/fr/formations/ingenieur/emplois-et-salaires\n",
      "https://www.esiee.fr/fr/formations/ingenieur/frais-scolarites/aides-financieres\n",
      "https://www.esiee.fr/fr/formations/ingenieur/stages\n",
      "https://www.esiee.fr/fr/formations/ingenieur/admission/Ingenieur\n",
      "https://www.esiee.fr/fr/contact-ingenieur\n",
      "#\n",
      "#\n",
      "https://www.esiee.fr/fr/formations/ingenieur-par-apprentissage\n",
      "#\n",
      "#\n",
      "https://www.esiee.fr/fr/formations/ingenieur-par-apprentissage/reseaux-securite\n",
      "https://www.esiee.fr/fr/formations/ingenieur-par-apprentissage/reseaux-securite/programme-des-enseignements\n",
      "https://www.esiee.fr/fr/formations/ingenieur-par-apprentissage/reseaux-securite/debouches\n",
      "#\n",
      "#\n",
      "https://www.esiee.fr/fr/formations/ingenieur-par-apprentissage/systemes-embarques\n",
      "https://www.esiee.fr/fr/formations/ingenieur-par-apprentissage/systemes-embarques/programme-des-enseignements\n",
      "https://www.esiee.fr/fr/formations/ingenieur-par-apprentissage/systemes-embarques/debouches\n",
      "#\n",
      "#\n",
      "https://www.esiee.fr/fr/formations/ingenieur-par-apprentissage/informatique-et-applications\n",
      "https://www.esiee.fr/fr/formations/ingenieur-par-apprentissage/informatique-et-applications/programme-des-enseignements\n",
      "https://www.esiee.fr/fr/formations/ingenieur-par-apprentissage/informatique-et-applications/debouches\n",
      "#\n",
      "#\n",
      "https://www.esiee.fr/fr/formations/ingenieur-par-apprentissage/genie-industriel\n",
      "https://www.esiee.fr/fr/formations/ingenieur-par-apprentissage/genie-industriel/programme-des-enseignements\n",
      "https://www.esiee.fr/fr/formations/ingenieur-par-apprentissage/genie-industriel/debouches\n",
      "https://www.esiee.fr/fr/formations/ingenieur-par-apprentissage/mode-emploi\n",
      "https://www.esiee.fr/fr/formations/ingenieur-par-apprentissage/admission/Ingenieur-par-apprentissage\n",
      "https://www.esiee.fr/fr/formations/ingenieur-par-apprentissage/site-cergy\n",
      "https://www.esiee.fr/fr/contact-ingenieur-par-apprentissage\n",
      "#\n",
      "#\n",
      "https://www.esiee.fr/fr/formations/masters-internationaux\n",
      "https://www.esiee.fr/fr/formations/masters-internationaux/msc-management-information-systems\n",
      "https://www.esiee.fr/fr/formations/masters-internationaux/master-computer-science-diplome-ingenieur\n",
      "https://www.esiee.fr/fr/formations/masters-internationaux/master-of-electronics\n",
      "https://www.esiee.fr/fr/formations/masters-internationaux/master-wireless-communicant-sensors\n",
      "https://www.esiee.fr/fr/contact-masters-internationaux\n",
      "#\n",
      "#\n",
      "https://www.esiee.fr/fr/formations/masteres-specialises\n",
      "https://www.esiee.fr/fr/formations/masteres-specialises/innovation-technologique-management-projet\n",
      "https://www.esiee.fr/fr/formations/masteres-specialises/admission/Masteres-specialises\n",
      "https://www.esiee.fr/fr/formations/masteres-specialises/frais-de-scolarite\n",
      "https://www.esiee.fr/fr/contact-masteres-specialises\n",
      "#\n",
      "#\n",
      "https://www.esiee.fr/fr/espace-etudiants/vie-etudiante\n",
      "#\n",
      "#\n",
      "https://www.esiee.fr/fr/espace-etudiants/vie-etudiante/bureau-des-eleves\n",
      "https://www.esiee.fr/fr/espace-etudiants/vie-etudiante/junior-esiee\n",
      "https://www.esiee.fr/fr/espace-etudiants/vie-etudiante/sport\n",
      "https://www.esiee.fr/fr/espace-etudiants/vie-etudiante/clubs-associations\n",
      "https://www.esiee.fr/fr/espace-etudiants/logements\n",
      "https://www.esiee.fr/fr/espace-etudiants/campus-descartes\n",
      "https://www.esiee.fr/fr/espace-etudiants/relais-handicap\n",
      "#\n",
      "#\n",
      "https://www.esiee.fr/fr/espace-etudiants/equipements/centre-de-langues\n",
      "https://www.esiee.fr/fr/espace-etudiants/equipements/informatique\n",
      "#\n",
      "#\n",
      "https://www.esiee.fr/fr/espace-etudiants/bibliotheque\n",
      "https://www.esiee.fr/fr/espace-etudiants/bibliotheque/informations-pratiques\n",
      "https://www.esiee.fr/fr/espace-etudiants/bibliotheque/livres-revues\n",
      "#\n",
      "#\n",
      "https://www.esiee.fr/fr/espace-etudiants/ressources-electroniques\n",
      "https://www.esiee.fr/fr/espace-etudiants/ressources-electroniques/sciences-et-techniques\n",
      "https://www.esiee.fr/fr/espace-etudiants/bibliotheque/informations-entreprises\n",
      "https://www.esiee.fr/fr/espace-etudiants/bibliotheque/ressources-electroniques/presse\n",
      "#\n",
      "#\n",
      "https://www.esiee.fr/fr/espace-etudiants/bibliotheque/services/aide-personnalise-recherche\n",
      "https://www.esiee.fr/fr/espace-etudiants/bibliotheque/services/pret-ouvrages\n",
      "https://www.esiee.fr/fr/contact-biblioth%C3%A8que\n",
      "https://www.esiee.fr/fr/videotheque\n",
      "https://www.esiee.fr/fr/espace-etudiants/financer-vos-etudes\n",
      "https://www.esiee.fr/fr/espace-etudiant/restauration\n",
      "#\n",
      "#\n",
      "https://www.esiee.fr/fr/qui-sommes-nous\n",
      "https://www.esiee.fr/fr/gouvernance\n",
      "https://www.esiee.fr/fr/ecole/conseil-scientifique\n",
      "#\n",
      "#\n",
      "https://www.esiee.fr/fr/ecole/departements-enseignants/4-departements\n",
      "https://www.esiee.fr/fr/ecole/departements-enseignements/informatique\n",
      "https://www.esiee.fr/fr/ecole/departements-enseignements/ingenierie-systemes\n",
      "https://www.esiee.fr/fr/ecole/departements-enseignements/sante-energie-environnement\n",
      "https://www.esiee.fr/fr/ecole/departements-enseignements/management-technologies-langues\n",
      "#\n",
      "#\n",
      "https://www.esiee.fr/fr/ecole/corps-enseignant/enseigner-a-esiee-paris\n",
      "https://www.esiee.fr/fr/ecole/les-enseignants-chercheurs\n",
      "https://www.esiee.fr/fr/ecole/corps-enseignant/cv-corps-professoral\n",
      "#\n",
      "#\n",
      "https://www.esiee.fr/fr/ecole/salles-blanches\n",
      "#\n",
      "#\n",
      "https://www.esiee.fr/fr/ecole/salles-blanches/equipements-et-procedes\n",
      "https://www.esiee.fr/fr/ecole/salles-blanches/equipements-et-procedes/photolithographie\n",
      "https://www.esiee.fr/fr/ecole/salles-blanches/equipements-et-procedes/traitements-thermiques\n",
      "https://www.esiee.fr/fr/ecole/salles-blanches/equipements-et-procedes/depots-couches-minces\n",
      "https://www.esiee.fr/fr/ecole/salles-blanches/equipements-et-procedes/electrodeposition\n",
      "https://www.esiee.fr/fr/ecole/salles-blanches/equipements-et-procedes/gravures-plasma\n",
      "https://www.esiee.fr/fr/ecole/salles-blanches/equipements-et-procedes/gravure-humide-nettoyage\n",
      "https://www.esiee.fr/fr/ecole/salles-blanches/equipements-et-procedes/scellement-de-substrats\n",
      "https://www.esiee.fr/fr/ecole/salles-blanches/equipements-et-procedes/metrologie\n",
      "https://www.esiee.fr/fr/ecole/salles-blanches/equipements-et-procedes/plateforme-sem-fib\n",
      "https://www.esiee.fr/fr/ecole/salles-blanches/equipements-et-procedes/packaging\n",
      "https://www.esiee.fr/fr/ecole/salles-blanches/equipements-et-procedes/recherche-collaborations\n",
      "https://www.esiee.fr/fr/ecole/salles-blanches/equipe\n",
      "https://www.esiee.fr/fr/ecole/salles-blanches/plateforme-recherche-collaborative-feder\n",
      "https://www.esiee.fr/fr/contact-salles-blanches\n",
      "https://www.esiee.fr/fr/ecole/esiee-connect/consortium\n",
      "https://www.esiee.fr/fr/ecole/esiee-connect\n",
      "#\n",
      "#\n",
      "https://www.esiee.fr/fr/la-recherche\n",
      "#\n",
      "#\n",
      "https://www.esiee.fr/fr/la-recherche/recherche-esiee-paris\n",
      "https://www.esiee.fr/fr/la-recherche/partenariats-academiques\n",
      "https://www.esiee.fr/fr/la-recherche/partenariats-entreprise\n",
      "#\n",
      "#\n",
      "https://www.esiee.fr/fr/la-recherche/grands-domaines\n",
      "https://www.esiee.fr/fr/la-recherche/grands-domaines/ville-durable\n",
      "https://www.esiee.fr/fr/la-recherche/grands-domaines/sante\n",
      "https://www.esiee.fr/fr/la-recherche/grands-domaines/tic-et-societe\n",
      "https://www.esiee.fr/fr/la-recherche\n",
      "#\n",
      "#\n",
      "#\n",
      "https://www.esiee.fr/fr/la-recherche/themes-de-recherche/informatique-image-signal\n",
      "https://www.esiee.fr/fr/la-recherche/themes-de-recherche/informatique-image-signal/architecture-parallelisme-realite-virtuelle\n",
      "https://www.esiee.fr/fr/la-recherche/themes-de-recherche/informatique-image-signal/geometrie-algorithmique\n",
      "https://www.esiee.fr/fr/la-recherche/themes-de-recherche/informatique-image-signal/morphologie-mathematique-traitement-image\n",
      "https://www.esiee.fr/fr/la-recherche/themes-de-recherche/informatique-image-signal/optimisation-modelisation-apprentissage\n",
      "https://www.esiee.fr/fr/la-recherche/themes-de-recherche/informatique-image-signal/traitement-signal\n",
      "#\n",
      "#\n",
      "https://www.esiee.fr/fr/la-recherche/themes-de-recherche/capteurs-sante-energie-environnement\n",
      "https://www.esiee.fr/fr/la-recherche/themes-de-recherche/capteurs-sante-energie-environnement/microsystemes-analyse-environnement-ville-durable\n",
      "https://www.esiee.fr/fr/la-recherche/themes-de-recherche/capteurs-sante-energie-environnement/technologies-sante\n",
      "https://www.esiee.fr/fr/la-recherche/themes-de-recherche/capteurs-sante-energie-environnement/micro-dispositif-materiaux-nanostructurees-recuperation-energie\n",
      "https://www.esiee.fr/fr/la-recherche/themes-de-recherche/capteurs-sante-energie-environnement/systemes-energetiques-ville-durable\n",
      "#\n",
      "#\n",
      "https://www.esiee.fr/fr/la-recherche/themes-de-recherche/electronique-communication\n",
      "https://www.esiee.fr/fr/la-recherche/themes-de-recherche/electronique-communication/architectures-algorithmes-communications-radios-localisation\n",
      "https://www.esiee.fr/fr/la-recherche/themes-de-recherche/electronique-communication/composants-circuits-systemes-communications-radios-optiques\n",
      "https://www.esiee.fr/fr/la-recherche/themes-de-recherche/electronique-communication/electronique-micro-systemes-instrumentation-systems-mesures\n",
      "#\n",
      "#\n",
      "https://www.esiee.fr/fr/la-recherche/themes-de-recherche/systemes-embarques-reseaux-manufacturing\n",
      "https://www.esiee.fr/fr/la-recherche/themes-de-recherche/systemes-embarques-reseaux-manufacturing/systemes-temps-reel-optimisation-energie\n",
      "https://www.esiee.fr/fr/la-recherche/themes-de-recherche/systemes-embarques-reseaux-manufacturing/optimisation-multi-couches-reseaux\n",
      "https://www.esiee.fr/fr/la-recherche/themes-de-recherche/systemes-embarques-reseaux-manufacturing/modeles-decisionnels-dynamiques-systemes-manufacturiers\n",
      "#\n",
      "#\n",
      "https://www.esiee.fr/fr/la-recherche/themes-de-recherche/management-innovation\n",
      "https://www.esiee.fr/fr/la-recherche/themes-de-recherche/management-innovation/innovations-rupture-marches-connaissance\n",
      "https://www.esiee.fr/fr/la-recherche/themes-de-recherche/management-innovation/management-projets-innovants\n",
      "https://www.esiee.fr/fr/la-recherche/themes-de-recherche/management-innovation/entrepreneuriat-financement-innovation\n",
      "https://www.esiee.fr/fr/la-recherche/themes-de-recherche/management-innovation/perpectives-mondialisation-changements-institutionnels\n",
      "https://www.esiee.fr/fr/la-recherche/equipements\n",
      "https://www.esiee.fr/fr/esiee_search/person\n",
      "https://www.esiee.fr/fr/la-recherche/formations-par-la-recherche\n",
      "https://www.esiee.fr/fr/la-recherche/formalites-accueil\n",
      "https://www.esiee.fr/fr/recherche/actualites\n",
      "https://www.esiee.fr/fr/la-recherche/publications-esiee\n",
      "https://www.esiee.fr/fr/recherche/publications\n",
      "https://www.esiee.fr/fr/contact-recherche\n",
      "#\n",
      "#\n",
      "https://www.esiee.fr/fr/entreprises\n",
      "#\n",
      "#\n",
      "https://www.esiee.fr/fr/entreprises/recrutez-nos-etudiants\n",
      "https://www.esiee.fr/fr/entreprises/recrutez-nos-etudiants/formations\n",
      "https://www.esiee.fr/fr/entreprises/recrutez-nos-etudiants/apprentissage\n",
      "https://www.esiee.fr/fr/entreprises/recrutez-nos-etudiants/stages\n",
      "https://www.esiee.fr/fr/entreprises/recrutez-nos-etudiants/premier-emploi\n",
      "https://www.esiee.fr/fr/entreprises/recrutez-nos-etudiants/evenements\n",
      "https://www.esiee.fr/fr/entreprises/deposer-offre-emploi-stage-apprentissage\n",
      "https://www.esiee.fr/fr/contact-pole-carriere\n",
      "#\n",
      "#\n",
      "https://www.esiee.fr/fr/entreprises/devenez-partenaire/creez-un-partenariat\n",
      "https://www.esiee.fr/fr/entreprises/devenez-partenaire/recherche-a-esiee-paris\n",
      "https://www.esiee.fr/fr/entreprises/formez-vos-equipes\n",
      "https://www.esiee.fr/fr/entreprises/devenez-partenaire/versez-votre-taxe-apprentissage\n",
      "https://www.esiee.fr/fr/entreprises/enteprises-mecene\n",
      "https://www.esiee.fr/fr/entreprises/utilisez-nos-plateformes-technologiques\n",
      "https://www.esiee.fr/fr/entreprises/reseau-des-anciens\n",
      "https://www.esiee.fr/fr/location-despaces\n",
      "https://www.esiee.fr/fr/contact-entreprises\n",
      "https://www.esiee.fr/fr/entreprises/deposer-offre-emploi-stage-apprentissage\n",
      "#\n",
      "#\n",
      "https://www.esiee.fr/fr/international/large-ouverture\n",
      "https://www.esiee.fr/fr/international/partenaires-academiques\n",
      "https://www.esiee.fr/fr/international/etudier-a-letranger\n",
      "https://www.esiee.fr/fr/international/accueil-etudiants-en-echanges\n",
      "https://www.esiee.fr/fr/formations/masters-internationaux\n",
      "https://www.esiee.fr/fr/international/reseau-ni\n",
      "https://www.esiee.fr/fr/les-dipl%C3%B4m%C3%A9s-%C3%A0-linternational\n",
      "https://www.esiee.fr/fr/contact-international\n",
      "https://www.esiee.fr/fr/campus-%C3%A0-l%C3%A9tranger\n",
      "/fr/formations/ingenieur/ingenieur-esiee-paris\n",
      "/fr/formations/ingenieur/filieres\n",
      "/fr/formations/ingenieur/emplois-et-salaires\n",
      "/fr/formations/ingenieur/admission/Ingenieur\n",
      "/fr/formations/ingenieur-par-apprentissage\n",
      "/fr/formations/ingenieur/emplois-et-salaires\n",
      "/fr/formations/ingenieur-par-apprentissage/mode-emploi\n",
      "/fr/formations/ingenieur-par-apprentissage/admission/Ingenieur-par-apprentissage\n",
      "/fr/formations/masteres-specialises\n",
      "/fr/formations/masteres-specialises/admission/Masteres-specialises\n",
      "/fr/formations/masters-internationaux\n",
      "/en/programmes/international-masters/how-to-apply\n",
      "#\n",
      "#\n",
      "#\n",
      "#\n",
      "fr/formations/ingenieur/ingenieur-esiee-paris\n",
      "fr/formations/ingenieur-par-apprentissage\n",
      "fr/formations/masteres-specialises\n",
      "fr/formations/masters-internationaux\n",
      "fr/rss/news\n",
      "/fr/esiee_search/news/home\n",
      "/fr/actualite/journee-portes-ouvertes-15-decembre-2018\n",
      "/fr/actualite/ceremonie-remise-de-diplomes-2018\n",
      "/fr/actualite/table-ronde-feminisation-metier-ingenieur-2018\n",
      "/fr/actualite/HFLAN-novembre-2018\n",
      "/fr/actualite/salon-etudiants-novembre-2018\n",
      "/fr/actualite/se-preparer-au-concours-puissance-alpha-2019\n",
      "/fr/actualite/future-days-2018\n",
      "/fr/actualite/forum-descartes-2018\n",
      "/fr/actualite/game-jam-esiee-itescia-2018\n",
      "/fr/actualite/rentree-2018-cybersecurite-intelligence-artificielle\n",
      "/fr/actualite/journees-tremplin-pour-l-emploi-2018\n",
      "/fr/actualite/etudiant-esiee-distinction-euroskills-2018\n",
      "/fr/actualite/trophee-des-femmes-de-l-industrie-2018\n",
      "https://www.esiee.fr/fr/la-recherche\n",
      "https://www.esiee.fr/fr/entreprises\n",
      "http://www.esiee.fr/fr/entreprises/les-parrains-esiee-paris\n",
      "http://www.esiee.fr/fr/entreprises/les-parrains-esiee-paris\n",
      "http://www.esiee.fr/fr/entreprises/les-parrains-esiee-paris\n",
      "http://www.esiee.fr/fr/entreprises/les-parrains-esiee-paris\n",
      "https://www.esiee.fr/fr/nous-rencontrer\n",
      "https://www.esiee.fr/fr/nous-rencontrer\n",
      "https://www.esiee.fr/fr/nous-rencontrer\n",
      "http://www.esiee.fr/fr/entreprises/les-parrains-esiee-paris\n",
      "http://www.esiee.fr/fr/entreprises/les-parrains-esiee-paris\n",
      "http://www.esiee.fr/fr/entreprises/les-parrains-esiee-paris\n",
      "http://www.esiee.fr/fr/entreprises/les-parrains-esiee-paris\n",
      "https://www.esiee.fr/fr/nous-rencontrer\n",
      "https://www.esiee.fr/fr/nous-rencontrer\n",
      "https://www.esiee.fr/fr/nous-rencontrer\n",
      "http://www.esiee.fr/fr/entreprises/les-parrains-esiee-paris\n",
      "http://www.esiee.fr/fr/entreprises/les-parrains-esiee-paris\n",
      "http://www.esiee.fr/fr/entreprises/les-parrains-esiee-paris\n",
      "http://www.esiee.fr/fr/entreprises/les-parrains-esiee-paris\n",
      "https://www.esiee.fr/fr/nous-rencontrer\n",
      "https://www.esiee.fr/fr/nous-rencontrer\n",
      "https://www.esiee.fr/fr/nous-rencontrer\n",
      "https://www.esiee.fr/fr/formations/ingenieur/filieres/datascience-intelligence-artificielle\n",
      "https://www.esiee.fr/fr/formations/ingenieur/filieres/datascience-intelligence-artificielle\n",
      "https://www.esiee.fr/fr/formations/ingenieur/ingenieur-esiee-paris\n",
      "https://www.esiee.fr/fr/formations/ingenieur/filieres/datascience-intelligence-artificielle\n",
      "https://www.esiee.fr/fr/formations/ingenieur-par-apprentissage/reseaux-securite\n",
      "https://www.esiee.fr/fr/formations/ingenieur-par-apprentissage/reseaux-securite\n",
      "https://www.esiee.fr/fr/formations/ingenieur-par-apprentissage\n",
      "https://www.esiee.fr/fr/formations/ingenieur-par-apprentissage/reseaux-securite\n",
      "https://www.esiee.fr/fr/formations/ingenieur/filieres/energie\n",
      "https://www.esiee.fr/fr/formations/ingenieur/filieres/energie\n",
      "https://www.esiee.fr/fr/formations/ingenieur/ingenieur-esiee-paris\n",
      "https://www.esiee.fr/fr/formations/ingenieur/filieres/energie\n",
      "https://www.esiee.fr/fr/formations/ingenieur/filieres/systemes-electroniques\n",
      "https://www.esiee.fr/fr/formations/ingenieur/filieres/systemes-electroniques\n",
      "https://www.esiee.fr/fr/formations/ingenieur/ingenieur-esiee-paris\n",
      "https://www.esiee.fr/fr/formations/ingenieur/filieres/systemes-electroniques\n",
      "https://www.esiee.fr/fr/formations/ingenieur-par-apprentissage/systemes-embarques\n",
      "https://www.esiee.fr/fr/formations/ingenieur-par-apprentissage/systemes-embarques\n",
      "https://www.esiee.fr/fr/formations/ingenieur-par-apprentissage\n",
      "https://www.esiee.fr/fr/formations/ingenieur-par-apprentissage/systemes-embarques\n",
      "https://www.esiee.fr/fr/formations/ingenieur/filieres/informatique\n",
      "https://www.esiee.fr/fr/formations/ingenieur/filieres/informatique\n",
      "https://www.esiee.fr/fr/formations/ingenieur/ingenieur-esiee-paris\n",
      "https://www.esiee.fr/fr/formations/ingenieur/filieres/informatique\n",
      "https://www.esiee.fr/fr/formations/masteres-specialises/e-sante\n",
      "https://www.esiee.fr/fr/formations/masteres-specialises/e-sante\n",
      "https://www.esiee.fr/fr/formations/masteres-specialises\n",
      "https://www.esiee.fr/fr/formations/masteres-specialises/e-sante\n",
      "https://www.esiee.fr/fr/formations/ingenieur-par-apprentissage/informatique-et-applications\n",
      "https://www.esiee.fr/fr/formations/ingenieur-par-apprentissage/informatique-et-applications\n",
      "https://www.esiee.fr/fr/formations/ingenieur-par-apprentissage\n",
      "https://www.esiee.fr/fr/formations/ingenieur-par-apprentissage/informatique-et-applications\n",
      "https://www.esiee.fr/fr/formations/ingenieur/filieres/cybersecurite-systemes-information\n",
      "https://www.esiee.fr/fr/formations/ingenieur/filieres/cybersecurite-systemes-information\n",
      "https://www.esiee.fr/fr/formations/ingenieur/ingenieur-esiee-paris\n",
      "https://www.esiee.fr/fr/formations/ingenieur/filieres/cybersecurite-systemes-information\n",
      "https://www.esiee.fr/fr/formations/ingenieur/filieres/genie-industriel\n",
      "https://www.esiee.fr/fr/formations/ingenieur/filieres/genie-industriel\n",
      "https://www.esiee.fr/fr/formations/ingenieur/ingenieur-esiee-paris\n",
      "https://www.esiee.fr/fr/formations/ingenieur/filieres/genie-industriel\n",
      "https://www.esiee.fr/fr/formations/masteres-specialises/innovation-technologique-management-projet\n",
      "https://www.esiee.fr/fr/formations/masteres-specialises/innovation-technologique-management-projet\n",
      "https://www.esiee.fr/fr/formations/masteres-specialises\n",
      "https://www.esiee.fr/fr/formations/masteres-specialises/innovation-technologique-management-projet\n",
      "https://www.esiee.fr/fr/formations/ingenieur/filieres/biotechnologies-esante\n",
      "https://www.esiee.fr/fr/formations/ingenieur/filieres/biotechnologies-esante\n",
      "https://www.esiee.fr/fr/formations/ingenieur/ingenieur-esiee-paris\n",
      "https://www.esiee.fr/fr/formations/ingenieur/filieres/biotechnologies-esante\n",
      "https://www.esiee.fr/fr/formations/ingenieur/filieres/systemes-embarques\n",
      "https://www.esiee.fr/fr/formations/ingenieur/filieres/systemes-embarques\n",
      "https://www.esiee.fr/fr/formations/ingenieur/ingenieur-esiee-paris\n",
      "https://www.esiee.fr/fr/formations/ingenieur/filieres/systemes-embarques\n",
      "/fr/acces\n",
      "/fr/presse\n",
      "/fr/nous-rencontrer\n",
      "/fr/jour-des-projets\n",
      "/fr/brochures\n",
      "/fr/videotheque\n",
      "/fr/location-despaces\n",
      "http://www.esiee.fr/fr/ecole/corps-enseignant/enseigner-a-esiee-paris\n",
      "/fr/reseaux-sociaux\n",
      "/fr/mentions-legales\n",
      "http://www.cci-paris-idf.fr/marches-publics-dematerialises-cci-paris-ile-de-france\n",
      "/fr/plan-du-site\n",
      "/fr/contact\n",
      "http://www.cci-paris-idf.fr\n",
      "https://www.facebook.com/esieeparis\n",
      "https://twitter.com/ESIEEPARIS\n",
      "https://www.linkedin.com/edu/school?id=20041&trk=tyah&trkInfo=idx%3A4-1-4%2CtarId%3A1425998561386%2Ctas%3Aesiee+paris\n",
      "http://www.youtube.com/esieeparis\n",
      "https://www.instagram.com/esieeparis/\n",
      "Texte principal : \n",
      "\n"
     ]
    },
    {
     "data": {
      "text/plain": [
       "' \\n\\n\\n\\n\\n\\n\\nESIEE Paris, l’école de l’innovation technologique | Grande école d’ingénieurs | ESIEE Paris\\n\\n\\n\\n\\n\\n<!--/*--><![CDATA[/*><!--*/\\n#sliding-popup.sliding-popup-bottom,#sliding-popup.sliding-popup-bottom .eu-cookie-withdraw-banner,.eu-cookie-withdraw-tab{background:#e9e7e2;}#sliding-popup.sliding-popup-bottom.eu-cookie-withdraw-wrapper{background:transparent}#sliding-popup .popup-content #popup-text h1,#sliding-popup .popup-content #popup-text h2,#sliding-popup .popup-content #popup-text h3,#sliding-popup .popup-content #popup-text p,.eu-cookie-compliance-more-button,.eu-cookie-compliance-secondary-button,.eu-cookie-withdraw-tab{color:#48444e !important;}.eu-cookie-withdraw-tab{border-color:#48444e;}\\n\\n/*]]>*/-->\\n\\n\\n\\n\\n\\n\\n\\n\\n\\n \\n\\n\\n\\n\\n\\n\\n\\n\\n\\n\\n\\nLes outils ESIEE Paris Webmail ESIEE Paris Emploi du temps général Emploi du temps individuel Extranet iCampus Microsoft DreamSpark \\n\\n\\n\\n\\n\\n\\n\\n\\n\\n\\n\\n\\n\\n\\n\\n\\n\\n\\n\\n\\n\\n\\n\\n\\n\\n\\n\\n\\n\\n\\n\\n\\n\\n\\n\\n\\n\\n\\n\\n\\n\\n\\n\\n\\n\\n\\n menu\\nFormations\\n\\n\\nRETOUR menu\\nFormations ESIEE ParisIngénieur\\n\\n\\nIngénieur\\nRETOUR Formations\\nIngénieur ESIEE ParisPremier cycleLe cycle ingénieur\\n\\n\\nLe cycle ingénieur\\nRETOUR Ingénieur\\nLe cycle ingénieur ESIEE ParisEnseignements de 1ère annéeEnseignements de 2e et 3e annéeProfils métiersFilières\\n\\n\\nFilières\\nRETOUR Ingénieur\\n8 filières, 1 diplômeInformatiqueCybersécurité des Systèmes d\\'informationDatascience et intelligence artificielleSystèmes embarquésSystèmes électroniquesGénie industrielBiotechnologies et e-santéEnergieEmplois et salairesFrais de scolarité ingénieur et aides financièresStagesAdmissionsContactIngénieur par apprentissage\\n\\n\\nIngénieur par apprentissage\\nRETOUR Formations\\nDevenir ingénieur par l\\'apprentissageRéseaux et sécurité - architecture et internet des objets\\n\\n\\nRéseaux et sécurité - architecture et internet des objets\\nRETOUR Ingénieur par apprentissage\\nRéseaux et sécurité - architecture et internet des objetsProgramme des enseignementsDébouchésSystèmes embarqués - transports et objets intelligents\\n\\n\\nSystèmes embarqués - transports et objets intelligents\\nRETOUR Ingénieur par apprentissage\\nSystèmes embarqués - transports et objets intelligentsProgramme des enseignementsDébouchésInformatique et applications - ingénierie 3D et technologie des médias\\n\\n\\nInformatique et applications - ingénierie 3D et technologie des médias\\nRETOUR Ingénieur par apprentissage\\nInformatique et applications - ingénierie graphique et technologies 3DProgramme des enseignementsDébouchésGénie industriel - Supply chain et numérique\\n\\n\\nGénie industriel - Supply chain et numérique\\nRETOUR Ingénieur par apprentissage\\nGénie industriel - Supply chain et numériqueProgramme des enseignementsDébouchésApprentissage : mode d\\'emploiAdmissionsSite de CergyContactMasters internationaux\\n\\n\\nMasters internationaux\\nRETOUR Formations\\nCinq masters internationauxM.Sc. Management-Information SystemsInternational Master of Computer ScienceInternational Master of ElectronicsMaster of Wireless Communicant SensorsContactMastères spécialisés\\n\\n\\nMastères spécialisés\\nRETOUR Formations\\nMastère spécialisé ESIEE ParisInnovation technologique et management de projetsAdmissionsFrais de scolarité mastères spécialisésContactEspace étudiants\\n\\n\\nRETOUR menu\\nLa vie étudianteL\\'associatif\\n\\n\\nL\\'associatif\\nRETOUR Espace étudiants\\nBureau des élèvesJunior ESIEESportClubs et associationsLogementsCampus DescartesRelais handicapEquipements\\n\\n\\nEquipements\\nRETOUR Espace étudiants\\nLe centre de languesInformatiqueBibliothèque\\n\\n\\nBibliothèque\\nRETOUR Espace étudiants\\nBibliothèque ESIEE ParisInformations pratiquesLivres et revuesRessources électroniques\\n\\n\\nRessources électroniques\\nRETOUR Bibliothèque\\nRessources électroniquesSciences et techniquesInformations sur les entreprisesPresseServices\\n\\n\\nServices\\nRETOUR Bibliothèque\\nAide personnalisée à la recherchePrêt d\\'ouvragesContactVidéothèqueFinancer vos étudesRestaurationL\\'école\\n\\n\\nRETOUR menu\\nQui sommes nous ?GouvernanceConseil ScientifiqueLes départements d\\'enseignements et de recherche\\n\\n\\nLes départements d\\'enseignements et de recherche\\nRETOUR L\\'école\\n4 départementsInformatiqueIngénierie des systèmesSanté, énergie, environnementManagement de la technologie et languesCorps enseignant\\n\\n\\nCorps enseignant\\nRETOUR L\\'école\\nEnseigner à ESIEE ParisLes enseignants-chercheursCV du corps professoralLes salles blanches\\n\\n\\nLes salles blanches\\nRETOUR L\\'école\\nLes salles blanchesEquipements et procédés\\n\\n\\nEquipements et procédés\\nRETOUR Les salles blanches\\nÉquipements et ProcédésPhotolithographieTraitements thermiquesDépôts de couches mincesElectrodépositionGravures plasmaGravure humide et nettoyageScellement de substratsMétrologiePlate-forme SEM/FIBPackagingRecherche et collaborationsEquipePlateforme de recherche collaborative - FEDERContactLe Consortium ESIEE ConnectESIEE ConnectLa recherche\\n\\n\\nRETOUR menu\\nAccueil RechercheLa recherche à ESIEE Paris\\n\\n\\nLa recherche à ESIEE Paris\\nRETOUR La recherche\\nLa recherche à ESIEE ParisPartenariats académiquesPartenariats entrepriseGrands domaines\\n\\n\\nGrands domaines\\nRETOUR La recherche\\n3 grands domainesVille durableSantéSTIC et sociétéThèmes de recherche\\n\\n\\nThèmes de recherche\\nRETOUR La recherche\\nInformatique, image, signal\\n\\n\\nInformatique, image, signal\\nRETOUR Thèmes de recherche\\nInformatique, image, signalArchitecture et parallélisme pour l\\'imagerie et la réalité virtuelleGéométrie discrète, géométrie algorithmique Morphologie mathématique et traitement d\\'images Optimisation, modélisation et apprentissage Traitement du signalCapteurs, santé, énergie, environnement\\n\\n\\nCapteurs, santé, énergie, environnement\\nRETOUR Thèmes de recherche\\nCapteurs, santé, énergie, environnementMicrosystèmes pour l\\'analyse de l\\'environnement et la ville durableTechnologies pour la santéMicro-dispositifs et matériaux nanostructurées pour la récupération d\\'énergieSystèmes énergétiques pour la ville durableElectronique, communication\\n\\n\\nElectronique, communication\\nRETOUR Thèmes de recherche\\nElectronique, communicationArchitectures et algorithmes pour les communications radios et la localisationComposants et circuits pour les systèmes de communications radios et optiquesElectronique associée aux micro-systèmes, instrumentation et systèmes de mesuresSystèmes embarqués, réseaux, manufacturing\\n\\n\\nSystèmes embarqués, réseaux, manufacturing\\nRETOUR Thèmes de recherche\\nSystèmes embarqués, réseaux, manufacturingSystèmes temps réel : ordonnancement temps réel, optimisation de l\\'énergie, méthodologie et outils de conceptionOptimisation inter-couches des réseauxVers des modèles décisionnels dynamiques pour les systèmes manufacturiersManagement de l\\'innovation\\n\\n\\nManagement de l\\'innovation\\nRETOUR Thèmes de recherche\\nManagement de l\\'innovationInnovations de rupture et marchés de la connaissanceManagement de projets innovantsEntrepreneuriat et financement de l\\'innovationPerspectives de la mondialisation et changements institutionnelsÉquipementsÉquipe de rechercheFormations par la rechercheFormalités d\\'accueilActualité de la recherchePublications 2017-2018Publications avant 2016ContactEntreprises\\n\\n\\nRETOUR menu\\nL\\'entreprise au cœur de l\\'enseignementRecrutez nos étudiants\\n\\n\\nRecrutez nos étudiants\\nRETOUR Entreprises\\nRecrutez nos étudiantsFormationsApprentissageStages1er emploiEvénements entreprises / étudiantsDéposez une offre d\\'emploi, de stage et d\\'apprentissageContactDevenez partenaire\\n\\n\\nDevenez partenaire\\nRETOUR Entreprises\\nCréez un partenariatR&D de ESIEE ParisFormez vos équipesTaxe d\\'apprentissageEntreprise mécèneUtilisez nos plateformes technologiquesRéseau des anciensLouez nos espacesContactDéposez une offre d\\'emploi, de stage et d\\'apprentissageInternational\\n\\n\\nRETOUR menu\\nUne large ouverture à l\\'internationalPartenaires académiquesEtudier à l\\'étrangerEtudiants en échangeMasters internationauxRéseau N+iLes diplômés à l\\'internationalContact Campus à l\\'étranger \\n\\n \\n\\n\\n\\n\\n\\n\\n\\n\\n\\n\\n\\n\\n \\n\\n\\nIngénieur\\nDécouvrir la formationFilières et métiersEmplois et salairesAdmissions & inscriptions\\n \\n\\n\\n\\nIngénieur par apprentissage\\nDécouvrir la formationEmplois et salairesApprentissage : mode d\\'emploiAdmissions & inscriptions\\n \\n\\n\\n\\nMastères spécialisés\\nDécouvrir la formationAdmissions & inscriptions\\n \\n\\n\\n\\nProgrammes internationaux\\nDécouvrir la formationAdmissions & inscriptions\\n \\n\\n\\nFormations\\nIngénieur\\nIngénieur par apprentissage\\nMastères spécialisés\\nProgrammes internationaux\\n\\n\\n\\nFormations\\n\\n\\n\\n\\n\\nIngénieur\\n\\n\\n\\n\\n\\n\\nIngénieur par apprentissage\\n\\n\\n\\n\\n\\n\\nMastères spécialisés\\n\\n\\n\\n\\n\\n\\nProgrammes internationaux\\n\\n\\n\\n\\n\\n\\n\\n\\n\\nActualités\\n\\nLire plus d\\'actualités\\n\\n\\n02.10.2018\\nJournée portes ouvertes\\n\\n\\nPortes Ouvertes - Samedi 15 décembre 2018 de 13h à 18h\\n\\nBien choisir son école, c\\'est aussi la rencontrer ! \\n\\n07.12.2018\\nEvènements\\n\\n\\n Cérémonie de remise des diplômes 2018\\n\\nPrès de 330 élèves issus de la formation d\\'ingénieur seront diplômés le 7 décembre prochain. \\n\\n29.11.2018\\nEvènements\\n\\n\\nTable-ronde \"Et Si Ingénieur s\\'Ecrivait avec un E\" avec le soutien d\\'Elles bougent\\n\\nDes lycéens sensibilisés à ESIEE Paris sur la féminisation des études d’ingénieures. \\n\\n24.11.2018\\nEvènements\\n\\n\\nHFLAN, le rendez-vous incontournable des gamers\\n\\nHFLAN, évènement vidéoludique, revient pour la 17e édition les 24 et 25 novembre prochain. \\n\\n10.11.2018\\nSalons\\n\\n\\nSalons étudiants : rendez-vous avec ESIEE Paris !\\n\\nVenez vous renseigner sur nos formations. Trois rendez-vous avec ESIEE Paris en novembre. \\n\\n05.11.2018\\nConcours\\n\\n\\nSe préparer au Concours Puissance Alpha à ESIEE Paris\\n\\nLes écoles du Concours Puissance Alpha organisent des sessions de préparation aux épreuves écrites. \\n\\n21.11.2018\\nEvènements\\n\\n\\nESIEE Paris partenaire des FUTURE Days\\n\\nL’événement francilien dédié aux acteurs des villes de demain \\n\\n15.11.2018\\nEvènements\\n\\n\\n15 novembre 2018 : Forum Descartes à ESIEE Paris\\n\\nRendez-vous au forum Descartes, forum de recrutement de l\\'Est francilien. \\n\\n09.10.2018\\nChallenge\\n\\n\\nGame Jam ESIEE Paris - ITESCIA\\n\\nRéalisation de projets innovants en réalité virtuelle dans des conditions réelles. \\n\\n14.09.2018\\nActualités\\n\\n\\nRentrée 2018 : Cybersécurité et Intelligence Artificielle à la Une\\n\\nLes nouveautés de la rentée 2018 à ESIEE Paris. \\n\\n12.10.2018\\nEvènements\\n\\n\\nLes journées « Tremplin pour l’emploi »\\n\\nTémoignages d\\'anciens, conférence recrutement et coaching au programme pour nos étudiants de 5e année. \\n\\n02.10.2018\\nDistinctions\\n\\n\\nOlympiade des métiers : un étudiant ESIEE Paris remporte une médaille d’excellence\\n\\nAlexandre Michel, apprenti ingénieur à ESIEE Paris a défendu les couleurs de la France aux « Euroskills 2018 ». \\n\\n25.09.2018\\nEvènements\\n\\n\\nESIEE Paris partenaire des Trophées des femmes de l’industrie\\n\\nESIEE Paris a remis le trophée dans la catégorie « Femmes au début prometteur ». \\n\\n\\n\\n\\n\\n\\n\\n  La recherche\\n\\n\\n\\n\\n\\n\\n  Découvrez les principaux thèmes de recherche ESIEE Paris, les actualités, les partenariats, les publications, les équipements…\\n\\n\\nEn savoir plus\\n\\n\\n\\n\\n\\n\\n  Entreprises\\n\\n\\n\\n\\n\\n\\n  Retrouvez toutes les informations relatives à la taxe d’apprentissage, à l’accompagnement des entreprises et des étudiants, les partenaires, les parrains de promotions…\\n\\n\\nEn savoir plus\\n\\n\\n\\n\\n\\n\\n\\n \\n\\n\\n\\n \\n\\n\\n\\n \\n\\n\\n\\n \\n\\n\\n\\n \\n\\n\\n\\n \\n\\n\\n\\n \\n\\n\\n\\n\\n\\n\\n\\n \\n\\n\\n\\n \\n\\n\\n\\n \\n\\n\\n\\n \\n\\n\\n\\n \\n\\n\\n\\n \\n\\n\\n\\n \\n\\n\\n\\n\\n\\n\\n\\n \\n\\n\\n\\n \\n\\n\\n\\n \\n\\n\\n\\n \\n\\n\\n\\n \\n\\n\\n\\n \\n\\n\\n\\n \\n\\n\\n \\n\\n\\nDomaines de compétences\\n\\n\\n\\n\\n\\n\\n\\n\\nDatascience et intelligence artificielle\\n\\n\\nIngénieur\\n\\nLire la suite\\n\\n\\n\\n\\n\\n\\n\\nRéseaux et sécurité\\n\\n\\nIngénieur par apprentissage\\n\\nLire la suite\\n\\n\\n\\n\\n\\n\\n\\nEnergie\\n\\n\\nIngénieur\\n\\nLire la suite\\n\\n\\n\\n\\n\\n\\n\\nSystèmes électroniques\\n\\n\\nIngénieur\\n\\nLire la suite\\n\\n\\n\\n\\n\\n\\n\\nSystèmes embarqués\\n\\n\\nIngénieur par apprentissage\\n\\nLire la suite\\n\\n\\n\\n\\n\\n\\n\\nInformatique\\n\\n\\nIngénieur\\n\\nLire la suite\\n\\n\\n\\n\\n\\n\\n\\nE-santé\\n\\n\\nMastère spécalisé\\n\\nLire la suite\\n\\n\\n\\n\\n\\n\\n\\nInformatique 3D\\n\\n\\nIngénieur par apprentissage\\n\\nLire la suite\\n\\n\\n\\n\\n\\n\\n\\nCybersécutité\\n\\n\\nIngénieur\\n\\nLire la suite\\n\\n\\n\\n\\n\\n\\n\\nGénie industriel\\n\\n\\nIngénieur\\n\\nLire la suite\\n\\n\\n\\n\\n\\n\\n\\nManagement de projet\\n\\n\\nMastère spécialisé\\n\\nLire la suite\\n\\n\\n\\n\\n\\n\\n\\nBiotechnologies et e-santé\\n\\n\\nIngénieur\\n\\nLire la suite\\n\\n\\n\\n\\n\\n\\n\\nSystèmes embarqués\\n\\n\\nIngénieur\\n\\nLire la suite\\n\\n\\n\\n\\n\\n\\n\\n\\n\\n\\n\\n\\nESIEE Paris\\n2 boulevard Blaise PascalCité DescartesBP 9993162 Noisy-le-Grand CedexTel : 01 45 92 65 00\\xa0\\n\\n\\n\\nPlan d\\'accès\\nPresse\\nNous rencontrer\\nLe Jour des Projets\\nBrochures\\nVidéothèque\\nLocation d\\'espaces\\nEnseigner à ESIEE\\nRéseaux sociaux\\nMentions Légales\\nMarchés publics\\nPlan du site\\n\\n\\n\\nContacter ESIEE Paris\\n\\n\\n\\n\\n\\n\\n\\n\\n\\n\\n\\n\\n\\n\\n\\n\\n\\n\\n\\n\\n\\n\\n\\n\\n\\n\\n\\n\\n\\n\\n\\n\\n\\n\\n\\n\\n\\n\\n<!--//--><![CDATA[//><!--\\nwindow.jQuery || document.write(\"<script src=\\'/sites/all/modules/contrib/jquery_update/replace/jquery/1.10/jquery.min.js\\'>\\\\x3C/script>\")\\n//--><!]]>\\n\\n\\n\\n\\n\\n\\n\\n<!--//--><![CDATA[//><!--\\nfunction euCookieComplianceLoadScripts() {}\\n//--><!]]>\\n\\n\\n<!--//--><![CDATA[//><!--\\nvar eu_cookie_compliance_cookie_name = \"\";\\n//--><!]]>\\n\\n\\n\\n<!--//--><![CDATA[//><!--\\n(function(i,s,o,g,r,a,m){i[\"GoogleAnalyticsObject\"]=r;i[r]=i[r]||function(){(i[r].q=i[r].q||[]).push(arguments)},i[r].l=1*new Date();a=s.createElement(o),m=s.getElementsByTagName(o)[0];a.async=1;a.src=g;m.parentNode.insertBefore(a,m)})(window,document,\"script\",\"//www.google-analytics.com/analytics.js\",\"ga\");ga(\"create\", \"UA-4033468-1\", {\"cookieDomain\":\"auto\"});ga(\"send\", \"pageview\");\\n//--><!]]>\\n\\n\\n\\n\\n\\n<!--//--><![CDATA[//><!--\\njQuery.extend(Drupal.settings, {\"basePath\":\"\\\\/\",\"pathPrefix\":\"fr\\\\/\",\"ajaxPageState\":{\"theme\":\"esiee_theme\",\"theme_token\":\"wIKiR4LQvdtCUthKrA8s0X-oRWBI79X5Eom_1QC3FBw\"},\"googleCSE\":{\"cx\":\"\",\"language\":\"\",\"resultsWidth\":600,\"domain\":\"www.google.com\"},\"scaldFile\":{\"path\":\"sites\\\\/all\\\\/modules\\\\/contrib\\\\/scald_file\\\\/scald_file.css\"},\"urlIsAjaxTrusted\":{\"\\\\/\":true},\"eu_cookie_compliance\":{\"popup_enabled\":1,\"popup_agreed_enabled\":0,\"popup_hide_agreed\":0,\"popup_clicking_confirmation\":false,\"popup_scrolling_confirmation\":false,\"popup_html_info\":\"\\\\u003Cdiv\\\\u003E\\\\n  \\\\u003Cdiv class =\\\\u0022custom-cookie-popup popup-content info\\\\u0022\\\\u003E\\\\n    \\\\u003Cdiv id=\\\\u0022popup-text\\\\u0022\\\\u003E\\\\n      \\\\u003Cp\\\\u003EEn naviguant sur notre site, vous acceptez l\\\\u0026#39;utilisation de cookies pour vous proposer une navigation optimale et nous permettre de r\\\\u00e9aliser des statistiques de visites. Pour en savoir plus et param\\\\u00e9trer les cookies, visiter \\\\u003Ca href=\\\\u0022\\\\/fr\\\\/mentions-legales\\\\u0022\\\\u003Ela page des mentions l\\\\u00e9gales de ESIEE Paris\\\\u003C\\\\/a\\\\u003E\\\\u003C\\\\/p\\\\u003E    \\\\u003C\\\\/div\\\\u003E\\\\n    \\\\u003Cdiv id=\\\\u0022popup-buttons\\\\u0022\\\\u003E\\\\n      \\\\u003Cbutton type=\\\\u0022button\\\\u0022 class=\\\\u0022agree-button\\\\u0022\\\\u003EAccepter\\\\u003C\\\\/button\\\\u003E\\\\n    \\\\u003C\\\\/div\\\\u003E\\\\n  \\\\u003C\\\\/div\\\\u003E\\\\n\\\\u003C\\\\/div\\\\u003E\",\"use_mobile_message\":false,\"mobile_popup_html_info\":\"\\\\u003Cdiv\\\\u003E\\\\n  \\\\u003Cdiv class =\\\\u0022custom-cookie-popup popup-content info\\\\u0022\\\\u003E\\\\n    \\\\u003Cdiv id=\\\\u0022popup-text\\\\u0022\\\\u003E\\\\n          \\\\u003C\\\\/div\\\\u003E\\\\n    \\\\u003Cdiv id=\\\\u0022popup-buttons\\\\u0022\\\\u003E\\\\n      \\\\u003Cbutton type=\\\\u0022button\\\\u0022 class=\\\\u0022agree-button\\\\u0022\\\\u003EAccepter\\\\u003C\\\\/button\\\\u003E\\\\n    \\\\u003C\\\\/div\\\\u003E\\\\n  \\\\u003C\\\\/div\\\\u003E\\\\n\\\\u003C\\\\/div\\\\u003E\\\\n\",\"mobile_breakpoint\":\"768\",\"popup_html_agreed\":\"\\\\u003Cdiv\\\\u003E\\\\r\\\\n  \\\\u003Cdiv class =\\\\u0022popup-content agreed\\\\u0022\\\\u003E\\\\r\\\\n    \\\\u003Cdiv id=\\\\u0022popup-text\\\\u0022\\\\u003E\\\\r\\\\n      \\\\u003Ch2\\\\u003EThank you for accepting cookies\\\\u003C\\\\/h2\\\\u003E\\\\u003Cp\\\\u003EYou can now hide this message or find out more about cookies.\\\\u003C\\\\/p\\\\u003E    \\\\u003C\\\\/div\\\\u003E\\\\r\\\\n    \\\\u003Cdiv id=\\\\u0022popup-buttons\\\\u0022\\\\u003E\\\\r\\\\n      \\\\u003Cbutton type=\\\\u0022button\\\\u0022 class=\\\\u0022hide-popup-button eu-cookie-compliance-hide-button\\\\u0022\\\\u003EMasquer\\\\u003C\\\\/button\\\\u003E\\\\r\\\\n              \\\\u003Cbutton type=\\\\u0022button\\\\u0022 class=\\\\u0022find-more-button eu-cookie-compliance-more-button-thank-you\\\\u0022 \\\\u003EMore info\\\\u003C\\\\/button\\\\u003E\\\\r\\\\n          \\\\u003C\\\\/div\\\\u003E\\\\r\\\\n  \\\\u003C\\\\/div\\\\u003E\\\\r\\\\n\\\\u003C\\\\/div\\\\u003E\",\"popup_use_bare_css\":false,\"popup_height\":\"auto\",\"popup_width\":\"100%\",\"popup_delay\":1000,\"popup_link\":\"\\\\/fr\\\\/fr\\\\/fr\\\\/mentions-legales\",\"popup_link_new_window\":1,\"popup_position\":null,\"popup_language\":\"fr\",\"store_consent\":true,\"better_support_for_screen_readers\":0,\"reload_page\":0,\"domain\":\"\",\"popup_eu_only_js\":0,\"cookie_lifetime\":\"100\",\"cookie_session\":false,\"disagree_do_not_show_popup\":0,\"method\":\"opt_in\",\"whitelisted_cookies\":\"\",\"withdraw_markup\":\"\\\\u003Cbutton type=\\\\u0022button\\\\u0022 class=\\\\u0022eu-cookie-withdraw-tab\\\\u0022\\\\u003E\\\\u003C\\\\/button\\\\u003E\\\\r\\\\n\\\\u003Cdiv class=\\\\u0022eu-cookie-withdraw-banner\\\\u0022\\\\u003E\\\\r\\\\n  \\\\u003Cdiv class=\\\\u0022popup-content info\\\\u0022\\\\u003E\\\\r\\\\n    \\\\u003Cdiv id=\\\\u0022popup-text\\\\u0022\\\\u003E\\\\r\\\\n          \\\\u003C\\\\/div\\\\u003E\\\\r\\\\n    \\\\u003Cdiv id=\\\\u0022popup-buttons\\\\u0022\\\\u003E\\\\r\\\\n      \\\\u003Cbutton type=\\\\u0022button\\\\u0022 class=\\\\u0022eu-cookie-withdraw-button\\\\u0022\\\\u003E\\\\u003C\\\\/button\\\\u003E\\\\r\\\\n    \\\\u003C\\\\/div\\\\u003E\\\\r\\\\n  \\\\u003C\\\\/div\\\\u003E\\\\r\\\\n\\\\u003C\\\\/div\\\\u003E\\\\r\\\\n\",\"withdraw_enabled\":false},\"googleanalytics\":{\"trackOutbound\":1,\"trackMailto\":1,\"trackDownload\":1,\"trackDownloadExtensions\":\"7z|aac|arc|arj|asf|asx|avi|bin|csv|doc(x|m)?|dot(x|m)?|exe|flv|gif|gz|gzip|hqx|jar|jpe?g|js|mp(2|3|4|e?g)|mov(ie)?|msi|msp|pdf|phps|png|ppt(x|m)?|pot(x|m)?|pps(x|m)?|ppam|sld(x|m)?|thmx|qtm?|ra(m|r)?|sea|sit|tar|tgz|torrent|txt|wav|wma|wmv|wpd|xls(x|m|b)?|xlt(x|m)|xlam|xml|z|zip\"},\"esiee_sliders\":{\"training_duration\":\"4\",\"training_auto\":1,\"promotion_duration\":\"2\"},\"esiee_scholarship\":{\"max_80\":5000,\"quotient_80\":60,\"min_60\":5001,\"max_60\":7000,\"quotient_60\":40,\"min_40\":7001,\"max_40\":14000,\"quotient_40\":20,\"min_20\":14001,\"max_20\":99999999999,\"quotient_20\":0},\"esiee_theme\":{\"trail\":[]}});\\n//--><!]]>\\n\\n\\n\\n'"
      ]
     },
     "execution_count": 155,
     "metadata": {},
     "output_type": "execute_result"
    }
   ],
   "source": [
    "import random\n",
    "\n",
    "class Request:\n",
    "    \"\"\"Classe permettant de faire des requêtes HTTP\"\"\"\n",
    "\n",
    "    \n",
    "    def __init__(self):\n",
    "        \"\"\"Par défaut, notre surface est vide\"\"\"\n",
    "        file = open(\"userAgents.txt\", \"r\")\n",
    "        userAgentsList = file.readlines()\n",
    "        self.userAgent = {'User-Agent' : random.choice(userAgentsList)}\n",
    "        self.timeOut = 10\n",
    "        \n",
    "    def makeRequest(self, url, retry = 10):\n",
    "        try:\n",
    "            response = requests.get(url, timeout=self.timeOut)\n",
    "        except:\n",
    "            return \"Timeout\"\n",
    "        if response.status_code == 200 or retry <= 0:\n",
    "            return response.text[0:1000]\n",
    "        else:\n",
    "            print(\"Failed request\")\n",
    "            print(response.status_code)\n",
    "            self.makeRequest(url, retry-1)\n",
    "\n",
    "    def getURLSoup(self, url):\n",
    "        response = requests.get(url)\n",
    "        return BeautifulSoup(response.text, \"lxml\")\n",
    "    \n",
    "    \n",
    "request = Request()\n",
    "#request.makeRequest(\"http://www.esiee.fr/\")\n",
    "soup = request.getURLSoup(\"http://www.esiee.fr/\")\n",
    "\n",
    "print(\"Le titre de la page est :\\n\")\n",
    "print(soup.find_all(\"title\"))\n",
    "\n",
    "print(\"Les H1 de la page sont :\\n\")\n",
    "print(soup.find_all(\"H1\"))\n",
    "\n",
    "print(\"Liens vers les images sont :\\n\")\n",
    "images = soup.find_all(\"img\")\n",
    "for image in images:\n",
    "    print(image['src'])\n",
    "    \n",
    "print(\"Liens sortant vers d'autres sites : \\n\")\n",
    "links = soup.find_all(\"a\")\n",
    "for link in links:\n",
    "    print(link['href'])\n",
    "    \n",
    "print(\"Texte principal : \\n\")\n",
    "soup.text"
   ]
  },
  {
   "cell_type": "markdown",
   "metadata": {},
   "source": [
    "# Exploitation des appels d'API\n"
   ]
  },
  {
   "cell_type": "markdown",
   "metadata": {},
   "source": [
    "\n",
    "Losque le front du site récupère des données sur une API géré par le back, un appel d'API est réalisé. Cet appel est recensé dans les appels réseaux. Il est alors possible de re-jouer cet appel pour récupérer à nouveau les données. Il est très facile de récupérer ces appels dans l'onglet Network de la console développeur de Chrome ou FireFox. La console vous permet de copier le code CURL pour effectuée et vous pouvez ensuite la transformer en code Python depuis le site https://curl.trillworks.com/.\n",
    "\n",
    "Souvent les APIs sont bloquées avec certain paramètres. L'API verifie que dans les headers de la requêtes HTTP ces paramètres sont présents : * un token généré à la volée avec des protocole OAuth2 (ou moins développés). * un referer provenant du site web (la source de la requête), très facile à falsifier.\n",
    "\n"
   ]
  },
  {
   "cell_type": "markdown",
   "metadata": {},
   "source": [
    "## Exercice \n",
    "### Exercice 4\n",
    "\n",
    "- Utiliser les informations développées plus haut pour récupérer les premiers résultats d'une recherche d'une requête\n",
    "sur Qwant. \n",
    "\n",
    "Tips : \n",
    "\n",
    "- Aller sur https://www.qwant.com/\n",
    "- Ouvrir les outils de développements de Chrome ou Firefox\n",
    "- Onglet Network\n",
    "- Fouiller dans les requêtes"
   ]
  },
  {
   "cell_type": "markdown",
   "metadata": {},
   "source": [
    "# Exercice Final  "
   ]
  },
  {
   "cell_type": "markdown",
   "metadata": {},
   "source": [
    "Exercice Final\n",
    "Utilisez tout ce que vous avez appris pour récupérer des articles de News avec une catégorie. Il est souvent intéressant de partir des flux RSS pour commencer :\n",
    "\n",
    "Les données doivent comprendre :\n",
    "- Le texte important propre\n",
    "- L'url\n",
    "- Le domaine\n",
    "- la catégorie\n",
    "- Le titre de l'article\n",
    "- Le titre de la page\n",
    "- (Facultatif) : les images\n",
    "\n",
    "Tips : \n",
    "\n",
    "- Taper le nom de votre média favoris + RSS (par exemple : https://www.lemonde.fr/rss/)\n",
    "- Aller dans le DOM de la page \n",
    "- Trouver les catégories et les liens vers les articles"
   ]
  },
  {
   "cell_type": "code",
   "execution_count": 201,
   "metadata": {},
   "outputs": [
    {
     "name": "stdout",
     "output_type": "stream",
     "text": [
      "Texte important : \n",
      "\n",
      "https://www.cnn.com/us/index.htmlhttp://i2.cdn.turner.com/cnn/2015/images/09/24/cnn.digital.pngCNN.com - RSS Channel - UShttps://www.cnn.com/us/index.htmlcoredev-bumblebeeWed, 05 Dec 2018 10:37:00 GMTWed, 05 Dec 2018 01:19:13 GMT10Costa Rican authorities believe a partially decomposed body found Tuesday is Carla Stefaniak, a 36-year-old US citizen who was reported missing last week, said Walter Espinoza, of Costa Rica's Judicial Investigation Department.<img src=\"http://feeds.feedburner.com/~r/rss/edition_us/~4/qX-0ZNxy22A\" height=\"1\" width=\"1\" alt=\"\"/>http://rss.cnn.com/~r/rss/edition_us/~3/qX-0ZNxy22A/index.htmlhttps://www.cnn.com/2018/12/04/us/florida-woman-costa-rica/index.htmlTue, 04 Dec 2018 22:48:04 GMThttps://www.cnn.com/2018/12/04/us/florida-woman-costa-rica/index.htmlFrom making snow angels to picking snowball fights with your friends, playing in the snow can be a lot of fun.<img src=\"http://feeds.feedburner.com/~r/rss/edition_us/~4/NRBkIjBfWZ8\" height=\"1\" width=\"1\" alt=\"\"/>http://rss.cnn.com/~r/rss/edition_us/~3/NRBkIjBfWZ8/index.htmlhttps://www.cnn.com/2018/12/04/us/colorado-boy-snowball-fights-law-trnd/index.htmlWed, 05 Dec 2018 02:57:11 GMThttps://www.cnn.com/2018/12/04/us/colorado-boy-snowball-fights-law-trnd/index.htmlhttp://rss.cnn.com/~r/rss/edition_us/~3/NjRV7G0d0pI/2809189-seattle-expansion-team-unanimously-approved-by-nhl-expected-to-start-in-2021https://bleacherreport.com/articles/2809189-seattle-expansion-team-unanimously-approved-by-nhl-expected-to-start-in-2021?utm_source=cnn.com&utm_medium=referral&utm_campaign=editorial<img src=\"http://feeds.feedburner.com/~r/rss/edition_us/~4/NjRV7G0d0pI\" height=\"1\" width=\"1\" alt=\"\"/>https://bleacherreport.com/articles/2809189-seattle-expansion-team-unanimously-approved-by-nhl-expected-to-start-in-2021?utm_source=cnn.com&utm_medium=referral&utm_campaign=editorialSquirrel monkey chirps filled a small ranch-style building in north Gainesville, Florida -- a chorus that made Kari Bagnall's smile swell even wider.<img src=\"http://feeds.feedburner.com/~r/rss/edition_us/~4/2uicef8Z0j8\" height=\"1\" width=\"1\" alt=\"\"/>http://rss.cnn.com/~r/rss/edition_us/~3/2uicef8Z0j8/index.htmlhttps://www.cnn.com/2018/12/04/health/fda-research-monkeys-retire-sanctuary-eprise/index.htmlTue, 04 Dec 2018 14:28:54 GMThttps://www.cnn.com/2018/12/04/health/fda-research-monkeys-retire-sanctuary-eprise/index.htmlQuestion-and-answer website Quora warned late Monday that hackers gained access to the personal data of as many as 100 million of its users.<img src=\"http://feeds.feedburner.com/~r/rss/edition_us/~4/f1ZjvmJPhLw\" height=\"1\" width=\"1\" alt=\"\"/>http://rss.cnn.com/~r/rss/edition_us/~3/f1ZjvmJPhLw/index.htmlhttps://www.cnn.com/2018/12/03/tech/quora-hack-data-breach/index.htmlTue, 04 Dec 2018 04:09:30 GMThttps://www.cnn.com/2018/12/03/tech/quora-hack-data-breach/index.htmlIn a deeply divided political climate, Washington witnessed a rare moment of unity on Monday as lawmakers from both sides of the aisle came together to remember George H.W. Bush.<img src=\"http://feeds.feedburner.com/~r/rss/edition_us/~4/WhbYa8V-shQ\" height=\"1\" width=\"1\" alt=\"\"/>http://rss.cnn.com/~r/rss/edition_us/~3/WhbYa8V-shQ/index.htmlhttps://www.cnn.com/2018/12/03/politics/bush-capitol-rotunda-congress/index.htmlTue, 04 Dec 2018 14:15:59 GMThttps://www.cnn.com/2018/12/03/politics/bush-capitol-rotunda-congress/index.htmlThe man at the center of an election fraud investigation in a North Carolina congressional race turned in nearly half of the requests for absentee ballots in a single county, records released Tuesday by the state's elections board show.<img src=\"http://feeds.feedburner.com/~r/rss/edition_us/~4/qbvn0YqHSHA\" height=\"1\" width=\"1\" alt=\"\"/>http://rss.cnn.com/~r/rss/edition_us/~3/qbvn0YqHSHA/index.htmlhttps://www.cnn.com/2018/12/04/politics/north-carolina-house-race-mccrae-dowless-absentee-ballots/index.htmlWed, 05 Dec 2018 03:24:55 GMThttps://www.cnn.com/2018/12/04/politics/north-carolina-house-race-mccrae-dowless-absentee-ballots/index.htmlThe casket carrying President George H.W. Bush arrives at the US Capitol as an emotional former president George W. Bush and the rest of the Bush family look on.<img src=\"http://feeds.feedburner.com/~r/rss/edition_us/~4/SS-QOu90GV8\" height=\"1\" width=\"1\" alt=\"\"/>http://rss.cnn.com/~r/rss/edition_us/~3/SS-QOu90GV8/president-george-hw-bush-casket-capitol-george-w-bush-moment-vpx.cnnhttps://www.cnn.com/videos/politics/2018/12/03/president-george-hw-bush-casket-capitol-george-w-bush-moment-vpx.cnnMon, 03 Dec 2018 22:25:00 GMThttps://www.cnn.com/videos/politics/2018/12/03/president-george-hw-bush-casket-capitol-george-w-bush-moment-vpx.cnnPresident Donald Trump, who declared over the weekend that he'd struck \"an incredible deal\" on trade with China, instead said Tuesday that the Americans and the Chinese remain where they were before he met with Xi Jinping in Argentina: at the start of negotiations.<img src=\"http://feeds.feedburner.com/~r/rss/edition_us/~4/H-xbPHfUNTc\" height=\"1\" width=\"1\" alt=\"\"/>http://rss.cnn.com/~r/rss/edition_us/~3/H-xbPHfUNTc/index.htmlhttps://www.cnn.com/2018/12/04/politics/trump-us-china-trade-confusion/index.htmlWed, 05 Dec 2018 01:47:10 GMThttps://www.cnn.com/2018/12/04/politics/trump-us-china-trade-confusion/index.htmlStocks were up Monday on the news of a US-China trade truce. But it may be tough for this aging bull market to keep powering ahead for much longer -- even if China and the US reach an actual agreement.<img src=\"http://feeds.feedburner.com/~r/rss/edition_us/~4/nYCroff3ltM\" height=\"1\" width=\"1\" alt=\"\"/>http://rss.cnn.com/~r/rss/edition_us/~3/nYCroff3ltM/index.htmlhttps://www.cnn.com/2018/12/03/investing/stocks-2019-outlook-caution/index.htmlTue, 04 Dec 2018 16:31:27 GMThttps://www.cnn.com/2018/12/03/investing/stocks-2019-outlook-caution/index.htmlThe recent plunge in the stock market is a cakewalk compared to what's going on with cryptocurrencies. Bitcoin prices are down more than 15% in just the past week and have plummeted nearly 70% so far this year.<img src=\"http://feeds.feedburner.com/~r/rss/edition_us/~4/iom8LPRY2RE\" height=\"1\" width=\"1\" alt=\"\"/>http://rss.cnn.com/~r/rss/edition_us/~3/iom8LPRY2RE/index.htmlhttps://www.cnn.com/2018/11/20/investing/bitcoin-prices-plunging/index.htmlTue, 20 Nov 2018 16:56:48 GMThttps://www.cnn.com/2018/11/20/investing/bitcoin-prices-plunging/index.htmlChristina Stembel used to think flowers were a waste of money. But when the economy spiraled into a recession, she started seeing things differently.<img src=\"http://feeds.feedburner.com/~r/rss/edition_us/~4/k0Apf2PZFHg\" height=\"1\" width=\"1\" alt=\"\"/>http://rss.cnn.com/~r/rss/edition_us/~3/k0Apf2PZFHg/index.htmlhttps://www.cnn.com/2018/11/19/success/farmgirl-flowers-fresh-money/index.htmlMon, 19 Nov 2018 15:55:50 GMThttps://www.cnn.com/2018/11/19/success/farmgirl-flowers-fresh-money/index.htmlhttp://rss.cnn.com/~r/rss/edition_us/~3/6S-7OWtSyaQ/4-dietary-tweaks-to-ease-hidradenitis-suppurativa-symptomshttps://healthguides.cnn.com/treating-hidradenitis-suppurativa/4-dietary-tweaks-to-ease-hidradenitis-suppurativa-symptoms?did=t1_atftxt<img src=\"http://feeds.feedburner.com/~r/rss/edition_us/~4/6S-7OWtSyaQ\" height=\"1\" width=\"1\" alt=\"\"/>https://healthguides.cnn.com/treating-hidradenitis-suppurativa/4-dietary-tweaks-to-ease-hidradenitis-suppurativa-symptoms?did=t1_atftxthttp://rss.cnn.com/~r/rss/edition_us/~3/Xa3LB9FQP7A/florida-toddler-battling-cancer-in-need-of-extremely-rare-blood-worldwide-search-underwayhttps://www.abcactionnews.com/news/state/florida-toddler-battling-cancer-in-need-of-extremely-rare-blood-worldwide-search-underway<img src=\"http://feeds.feedburner.com/~r/rss/edition_us/~4/Xa3LB9FQP7A\" height=\"1\" width=\"1\" alt=\"\"/>https://www.abcactionnews.com/news/state/florida-toddler-battling-cancer-in-need-of-extremely-rare-blood-worldwide-search-underwayhttp://rss.cnn.com/~r/rss/edition_us/~3/emPSQW4E_u0/https://miami.cbslocal.com/2018/12/04/fhp-trooper-saves-man-car-crash/<img src=\"http://feeds.feedburner.com/~r/rss/edition_us/~4/emPSQW4E_u0\" height=\"1\" width=\"1\" alt=\"\"/>https://miami.cbslocal.com/2018/12/04/fhp-trooper-saves-man-car-crash/http://rss.cnn.com/~r/rss/edition_us/~3/EDNz_jI81dw/http://pittsburgh.cbslocal.com/2018/12/04/steelers-fans-chokes-pregnant-chargers-fan/<img src=\"http://feeds.feedburner.com/~r/rss/edition_us/~4/EDNz_jI81dw\" height=\"1\" width=\"1\" alt=\"\"/>http://pittsburgh.cbslocal.com/2018/12/04/steelers-fans-chokes-pregnant-chargers-fan/http://rss.cnn.com/~r/rss/edition_us/~3/mh6r6MHXV2Y/https://wtkr.com/2018/12/04/norfolk-reaches-settlement-with-norfolk-four-will-pay-4-9-million/<img src=\"http://feeds.feedburner.com/~r/rss/edition_us/~4/mh6r6MHXV2Y\" height=\"1\" width=\"1\" alt=\"\"/>https://wtkr.com/2018/12/04/norfolk-reaches-settlement-with-norfolk-four-will-pay-4-9-million/http://rss.cnn.com/~r/rss/edition_us/~3/4lE30tlnjyg/south-florida-doctor-arrested-accused-of-drugging-womans-drinkhttps://www.wptv.com/news/region-s-palm-beach-county/boca-raton/south-florida-doctor-arrested-accused-of-drugging-womans-drink<img src=\"http://feeds.feedburner.com/~r/rss/edition_us/~4/4lE30tlnjyg\" height=\"1\" width=\"1\" alt=\"\"/>https://www.wptv.com/news/region-s-palm-beach-county/boca-raton/south-florida-doctor-arrested-accused-of-drugging-womans-drinkhttp://rss.cnn.com/~r/rss/edition_us/~3/4knnyGqE5Y8/https://philadelphia.cbslocal.com/2018/12/03/secret-santa-gifts-29000-worth-of-layaway-at-walmart-in-chester-county/<img src=\"http://feeds.feedburner.com/~r/rss/edition_us/~4/4knnyGqE5Y8\" height=\"1\" width=\"1\" alt=\"\"/>https://philadelphia.cbslocal.com/2018/12/03/secret-santa-gifts-29000-worth-of-layaway-at-walmart-in-chester-county/http://rss.cnn.com/~r/rss/edition_us/~3/k05hmkSwElg/https://fox43.com/2018/12/04/homeless-man-causes-nearly-24000-in-damage-to-nearly-80-vehicles-in-lgh-penn-medicine-parking-garage/<img src=\"http://feeds.feedburner.com/~r/rss/edition_us/~4/k05hmkSwElg\" height=\"1\" width=\"1\" alt=\"\"/>https://fox43.com/2018/12/04/homeless-man-causes-nearly-24000-in-damage-to-nearly-80-vehicles-in-lgh-penn-medicine-parking-garage/http://rss.cnn.com/~r/rss/edition_us/~3/lJwveoWP9lQ/article_dc23a22e-1c8b-58d8-8772-299f7b6b8dab.htmlhttps://poststar.com/news/local/store-owner-catches-scammer-trying-to-capitalize-on-fire/article_dc23a22e-1c8b-58d8-8772-299f7b6b8dab.html<img src=\"http://feeds.feedburner.com/~r/rss/edition_us/~4/lJwveoWP9lQ\" height=\"1\" width=\"1\" alt=\"\"/>https://poststar.com/news/local/store-owner-catches-scammer-trying-to-capitalize-on-fire/article_dc23a22e-1c8b-58d8-8772-299f7b6b8dab.htmlhttp://rss.cnn.com/~r/rss/edition_us/~3/ERxrZS7kgW0/https://boston.cbslocal.com/2018/12/03/wheaton-college-dorm-arson-fire-investigation/<img src=\"http://feeds.feedburner.com/~r/rss/edition_us/~4/ERxrZS7kgW0\" height=\"1\" width=\"1\" alt=\"\"/>https://boston.cbslocal.com/2018/12/03/wheaton-college-dorm-arson-fire-investigation/http://rss.cnn.com/~r/rss/edition_us/~3/jnPMnWrVEcU/https://newyork.cbslocal.com/2018/12/03/fedex-workers-charged-with-assault-after-road-rage-incident-outside-funeral/<img src=\"http://feeds.feedburner.com/~r/rss/edition_us/~4/jnPMnWrVEcU\" height=\"1\" width=\"1\" alt=\"\"/>https://newyork.cbslocal.com/2018/12/03/fedex-workers-charged-with-assault-after-road-rage-incident-outside-funeral/http://rss.cnn.com/~r/rss/edition_us/~3/R6-lI2fSovQ/https://wgntv.com/2018/12/04/large-fire-reported-at-mussmans-back-acres-egg-farm/<img src=\"http://feeds.feedburner.com/~r/rss/edition_us/~4/R6-lI2fSovQ\" height=\"1\" width=\"1\" alt=\"\"/>https://wgntv.com/2018/12/04/large-fire-reported-at-mussmans-back-acres-egg-farm/http://rss.cnn.com/~r/rss/edition_us/~3/AaES0k84kU8/https://fox4kc.com/2018/12/03/south-kc-man-sends-terrified-package-thief-running-with-home-security-alarm/<img src=\"http://feeds.feedburner.com/~r/rss/edition_us/~4/AaES0k84kU8\" height=\"1\" width=\"1\" alt=\"\"/>https://fox4kc.com/2018/12/03/south-kc-man-sends-terrified-package-thief-running-with-home-security-alarm/http://rss.cnn.com/~r/rss/edition_us/~3/IEzZaC6vGQ4/article_88791934-0700-5c95-86f4-f15d3e67b130.htmlhttps://lacrossetribune.com/news/local/la-crosse-school-staffers-arrange-help-for-boy-teased-over/article_88791934-0700-5c95-86f4-f15d3e67b130.html#tracking-source=home-top-story-1<img src=\"http://feeds.feedburner.com/~r/rss/edition_us/~4/IEzZaC6vGQ4\" height=\"1\" width=\"1\" alt=\"\"/>https://lacrossetribune.com/news/local/la-crosse-school-staffers-arrange-help-for-boy-teased-over/article_88791934-0700-5c95-86f4-f15d3e67b130.html#tracking-source=home-top-story-1http://rss.cnn.com/~r/rss/edition_us/~3/jVWlW1Fpr68/https://fox6now.com/2018/12/03/wild-chase-by-greendale-pd-makes-national-headlines-as-suspect-tries-desperately-to-avoid-capture/<img src=\"http://feeds.feedburner.com/~r/rss/edition_us/~4/jVWlW1Fpr68\" height=\"1\" width=\"1\" alt=\"\"/>https://fox6now.com/2018/12/03/wild-chase-by-greendale-pd-makes-national-headlines-as-suspect-tries-desperately-to-avoid-capture/http://rss.cnn.com/~r/rss/edition_us/~3/TiHEyDxEwp8/Pharmacy-director-being-investigated-for-embezzling-millions-501829402.htmlhttps://www.wowt.com/content/news/Pharmacy-director-being-investigated-for-embezzling-millions-501829402.html<img src=\"http://feeds.feedburner.com/~r/rss/edition_us/~4/TiHEyDxEwp8\" height=\"1\" width=\"1\" alt=\"\"/>https://www.wowt.com/content/news/Pharmacy-director-being-investigated-for-embezzling-millions-501829402.htmlhttp://rss.cnn.com/~r/rss/edition_us/~3/-nDNp0WSnQY/https://wgno.com/2018/12/04/police-find-almost-370000-in-cash-in-hidden-compartment-during-traffic-stop/<img src=\"http://feeds.feedburner.com/~r/rss/edition_us/~4/-nDNp0WSnQY\" height=\"1\" width=\"1\" alt=\"\"/>https://wgno.com/2018/12/04/police-find-almost-370000-in-cash-in-hidden-compartment-during-traffic-stop/\n",
      "\n",
      "URL de la page : \n",
      "\n",
      "http://rss.cnn.com/rss/edition_us.rss \n",
      "\n",
      "Le nom de domaine de cet url est : 'rss'\n"
     ]
    },
    {
     "data": {
      "text/plain": [
       "<?xml version=\"1.0\" encoding=\"UTF-8\"?><?xml-stylesheet type=\"text/xsl\" media=\"screen\" href=\"/~d/styles/rss2full.xsl\"?><?xml-stylesheet type=\"text/css\" media=\"screen\" href=\"http://rss.cnn.com/~d/styles/itemcontent.css\"?><html><body><rss version=\"2.0\" xmlns:atom=\"http://www.w3.org/2005/Atom\" xmlns:content=\"http://purl.org/rss/1.0/modules/content/\" xmlns:dc=\"http://purl.org/dc/elements/1.1/\" xmlns:feedburner=\"http://rssnamespace.org/feedburner/ext/1.0\" xmlns:media=\"http://search.yahoo.com/mrss/\"><channel><title></title><description></description><link/>https://www.cnn.com/us/index.html<image><url>http://i2.cdn.turner.com/cnn/2015/images/09/24/cnn.digital.png</url><title>CNN.com - RSS Channel - US</title><link/>https://www.cnn.com/us/index.html</image><generator>coredev-bumblebee</generator><lastbuilddate>Wed, 05 Dec 2018 10:37:00 GMT</lastbuilddate><pubdate>Wed, 05 Dec 2018 01:19:13 GMT</pubdate><copyright></copyright><language></language><ttl>10</ttl><atom10:link href=\"http://rss.cnn.com/rss/edition_us\" rel=\"self\" type=\"application/rss+xml\" xmlns:atom10=\"http://www.w3.org/2005/Atom\"></atom10:link><feedburner:info uri=\"rss/edition_us\"></feedburner:info><atom10:link href=\"http://pubsubhubbub.appspot.com/\" rel=\"hub\" xmlns:atom10=\"http://www.w3.org/2005/Atom\"></atom10:link><item><title></title><description>Costa Rican authorities believe a partially decomposed body found Tuesday is Carla Stefaniak, a 36-year-old US citizen who was reported missing last week, said Walter Espinoza, of Costa Rica's Judicial Investigation Department.&lt;img src=\"http://feeds.feedburner.com/~r/rss/edition_us/~4/qX-0ZNxy22A\" height=\"1\" width=\"1\" alt=\"\"/&gt;</description><link/>http://rss.cnn.com/~r/rss/edition_us/~3/qX-0ZNxy22A/index.html<guid ispermalink=\"false\">https://www.cnn.com/2018/12/04/us/florida-woman-costa-rica/index.html</guid><pubdate>Tue, 04 Dec 2018 22:48:04 GMT</pubdate><media:group><media:content height=\"619\" medium=\"image\" url=\"https://cdn.cnn.com/cnnnext/dam/assets/181203153747-02-florida-woman-disappears-costa-rica-12318-super-169.jpg\" width=\"1100\"></media:content><media:content height=\"300\" medium=\"image\" url=\"https://cdn.cnn.com/cnnnext/dam/assets/181203153747-02-florida-woman-disappears-costa-rica-12318-large-11.jpg\" width=\"300\"></media:content><media:content height=\"552\" medium=\"image\" url=\"https://cdn.cnn.com/cnnnext/dam/assets/181203153747-02-florida-woman-disappears-costa-rica-12318-vertical-large-gallery.jpg\" width=\"414\"></media:content><media:content height=\"480\" medium=\"image\" url=\"https://cdn.cnn.com/cnnnext/dam/assets/181203153747-02-florida-woman-disappears-costa-rica-12318-video-synd-2.jpg\" width=\"640\"></media:content><media:content height=\"324\" medium=\"image\" url=\"https://cdn.cnn.com/cnnnext/dam/assets/181203153747-02-florida-woman-disappears-costa-rica-12318-live-video.jpg\" width=\"576\"></media:content><media:content height=\"250\" medium=\"image\" url=\"https://cdn.cnn.com/cnnnext/dam/assets/181203153747-02-florida-woman-disappears-costa-rica-12318-t1-main.jpg\" width=\"250\"></media:content><media:content height=\"360\" medium=\"image\" url=\"https://cdn.cnn.com/cnnnext/dam/assets/181203153747-02-florida-woman-disappears-costa-rica-12318-vertical-gallery.jpg\" width=\"270\"></media:content><media:content height=\"169\" medium=\"image\" url=\"https://cdn.cnn.com/cnnnext/dam/assets/181203153747-02-florida-woman-disappears-costa-rica-12318-story-body.jpg\" width=\"300\"></media:content><media:content height=\"250\" medium=\"image\" url=\"https://cdn.cnn.com/cnnnext/dam/assets/181203153747-02-florida-woman-disappears-costa-rica-12318-t1-main.jpg\" width=\"250\"></media:content><media:content height=\"186\" medium=\"image\" url=\"https://cdn.cnn.com/cnnnext/dam/assets/181203153747-02-florida-woman-disappears-costa-rica-12318-assign.jpg\" width=\"248\"></media:content><media:content height=\"144\" medium=\"image\" url=\"https://cdn.cnn.com/cnnnext/dam/assets/181203153747-02-florida-woman-disappears-costa-rica-12318-hp-video.jpg\" width=\"256\"></media:content></media:group><feedburner:origlink>https://www.cnn.com/2018/12/04/us/florida-woman-costa-rica/index.html</feedburner:origlink></item><item><title></title><description>From making snow angels to picking snowball fights with your friends, playing in the snow can be a lot of fun.&lt;img src=\"http://feeds.feedburner.com/~r/rss/edition_us/~4/NRBkIjBfWZ8\" height=\"1\" width=\"1\" alt=\"\"/&gt;</description><link/>http://rss.cnn.com/~r/rss/edition_us/~3/NRBkIjBfWZ8/index.html<guid ispermalink=\"false\">https://www.cnn.com/2018/12/04/us/colorado-boy-snowball-fights-law-trnd/index.html</guid><pubdate>Wed, 05 Dec 2018 02:57:11 GMT</pubdate><media:group><media:content height=\"619\" medium=\"image\" url=\"https://cdn.cnn.com/cnnnext/dam/assets/181204165455-snowball-fights-legal-02-super-169.jpg\" width=\"1100\"></media:content><media:content height=\"300\" medium=\"image\" url=\"https://cdn.cnn.com/cnnnext/dam/assets/181204165455-snowball-fights-legal-02-large-11.jpg\" width=\"300\"></media:content><media:content height=\"552\" medium=\"image\" url=\"https://cdn.cnn.com/cnnnext/dam/assets/181204165455-snowball-fights-legal-02-vertical-large-gallery.jpg\" width=\"414\"></media:content><media:content height=\"480\" medium=\"image\" url=\"https://cdn.cnn.com/cnnnext/dam/assets/181204165455-snowball-fights-legal-02-video-synd-2.jpg\" width=\"640\"></media:content><media:content height=\"324\" medium=\"image\" url=\"https://cdn.cnn.com/cnnnext/dam/assets/181204165455-snowball-fights-legal-02-live-video.jpg\" width=\"576\"></media:content><media:content height=\"250\" medium=\"image\" url=\"https://cdn.cnn.com/cnnnext/dam/assets/181204165455-snowball-fights-legal-02-t1-main.jpg\" width=\"250\"></media:content><media:content height=\"360\" medium=\"image\" url=\"https://cdn.cnn.com/cnnnext/dam/assets/181204165455-snowball-fights-legal-02-vertical-gallery.jpg\" width=\"270\"></media:content><media:content height=\"169\" medium=\"image\" url=\"https://cdn.cnn.com/cnnnext/dam/assets/181204165455-snowball-fights-legal-02-story-body.jpg\" width=\"300\"></media:content><media:content height=\"250\" medium=\"image\" url=\"https://cdn.cnn.com/cnnnext/dam/assets/181204165455-snowball-fights-legal-02-t1-main.jpg\" width=\"250\"></media:content><media:content height=\"186\" medium=\"image\" url=\"https://cdn.cnn.com/cnnnext/dam/assets/181204165455-snowball-fights-legal-02-assign.jpg\" width=\"248\"></media:content><media:content height=\"144\" medium=\"image\" url=\"https://cdn.cnn.com/cnnnext/dam/assets/181204165455-snowball-fights-legal-02-hp-video.jpg\" width=\"256\"></media:content></media:group><feedburner:origlink>https://www.cnn.com/2018/12/04/us/colorado-boy-snowball-fights-law-trnd/index.html</feedburner:origlink></item><item><title></title><link/>http://rss.cnn.com/~r/rss/edition_us/~3/NjRV7G0d0pI/2809189-seattle-expansion-team-unanimously-approved-by-nhl-expected-to-start-in-2021<guid ispermalink=\"false\">https://bleacherreport.com/articles/2809189-seattle-expansion-team-unanimously-approved-by-nhl-expected-to-start-in-2021?utm_source=cnn.com&amp;utm_medium=referral&amp;utm_campaign=editorial</guid><media:group><media:content height=\"619\" medium=\"image\" url=\"https://cdn.cnn.com/cnnnext/dam/assets/150325082152-social-gfx-cnn-logo-super-169.jpg\" width=\"1100\"></media:content><media:content height=\"300\" medium=\"image\" url=\"https://cdn.cnn.com/cnnnext/dam/assets/150325082152-social-gfx-cnn-logo-large-11.jpg\" width=\"300\"></media:content><media:content height=\"552\" medium=\"image\" url=\"https://cdn.cnn.com/cnnnext/dam/assets/150325082152-social-gfx-cnn-logo-vertical-large-gallery.jpg\" width=\"414\"></media:content><media:content height=\"480\" medium=\"image\" url=\"https://cdn.cnn.com/cnnnext/dam/assets/150325082152-social-gfx-cnn-logo-video-synd-2.jpg\" width=\"640\"></media:content><media:content height=\"324\" medium=\"image\" url=\"https://cdn.cnn.com/cnnnext/dam/assets/150325082152-social-gfx-cnn-logo-live-video.jpg\" width=\"576\"></media:content><media:content height=\"250\" medium=\"image\" url=\"https://cdn.cnn.com/cnnnext/dam/assets/150325082152-social-gfx-cnn-logo-t1-main.jpg\" width=\"250\"></media:content><media:content height=\"360\" medium=\"image\" url=\"https://cdn.cnn.com/cnnnext/dam/assets/150325082152-social-gfx-cnn-logo-vertical-gallery.jpg\" width=\"270\"></media:content><media:content height=\"169\" medium=\"image\" url=\"https://cdn.cnn.com/cnnnext/dam/assets/150325082152-social-gfx-cnn-logo-story-body.jpg\" width=\"300\"></media:content><media:content height=\"250\" medium=\"image\" url=\"https://cdn.cnn.com/cnnnext/dam/assets/150325082152-social-gfx-cnn-logo-t1-main.jpg\" width=\"250\"></media:content><media:content height=\"186\" medium=\"image\" url=\"https://cdn.cnn.com/cnnnext/dam/assets/150325082152-social-gfx-cnn-logo-assign.jpg\" width=\"248\"></media:content><media:content height=\"144\" medium=\"image\" url=\"https://cdn.cnn.com/cnnnext/dam/assets/150325082152-social-gfx-cnn-logo-hp-video.jpg\" width=\"256\"></media:content></media:group><description>&lt;img src=\"http://feeds.feedburner.com/~r/rss/edition_us/~4/NjRV7G0d0pI\" height=\"1\" width=\"1\" alt=\"\"/&gt;</description><feedburner:origlink>https://bleacherreport.com/articles/2809189-seattle-expansion-team-unanimously-approved-by-nhl-expected-to-start-in-2021?utm_source=cnn.com&amp;utm_medium=referral&amp;utm_campaign=editorial</feedburner:origlink></item><item><title></title><description>Squirrel monkey chirps filled a small ranch-style building in north Gainesville, Florida -- a chorus that made Kari Bagnall's smile swell even wider.&lt;img src=\"http://feeds.feedburner.com/~r/rss/edition_us/~4/2uicef8Z0j8\" height=\"1\" width=\"1\" alt=\"\"/&gt;</description><link/>http://rss.cnn.com/~r/rss/edition_us/~3/2uicef8Z0j8/index.html<guid ispermalink=\"false\">https://www.cnn.com/2018/12/04/health/fda-research-monkeys-retire-sanctuary-eprise/index.html</guid><pubdate>Tue, 04 Dec 2018 14:28:54 GMT</pubdate><media:group><media:content height=\"619\" medium=\"image\" url=\"https://cdn.cnn.com/cnnnext/dam/assets/181203143242-01-fda-research-monkeys-retire-super-169.jpg\" width=\"1100\"></media:content><media:content height=\"300\" medium=\"image\" url=\"https://cdn.cnn.com/cnnnext/dam/assets/181203143242-01-fda-research-monkeys-retire-large-11.jpg\" width=\"300\"></media:content><media:content height=\"552\" medium=\"image\" url=\"https://cdn.cnn.com/cnnnext/dam/assets/181203143242-01-fda-research-monkeys-retire-vertical-large-gallery.jpg\" width=\"414\"></media:content><media:content height=\"480\" medium=\"image\" url=\"https://cdn.cnn.com/cnnnext/dam/assets/181203143242-01-fda-research-monkeys-retire-video-synd-2.jpg\" width=\"640\"></media:content><media:content height=\"324\" medium=\"image\" url=\"https://cdn.cnn.com/cnnnext/dam/assets/181203143242-01-fda-research-monkeys-retire-live-video.jpg\" width=\"576\"></media:content><media:content height=\"250\" medium=\"image\" url=\"https://cdn.cnn.com/cnnnext/dam/assets/181203143242-01-fda-research-monkeys-retire-t1-main.jpg\" width=\"250\"></media:content><media:content height=\"360\" medium=\"image\" url=\"https://cdn.cnn.com/cnnnext/dam/assets/181203143242-01-fda-research-monkeys-retire-vertical-gallery.jpg\" width=\"270\"></media:content><media:content height=\"169\" medium=\"image\" url=\"https://cdn.cnn.com/cnnnext/dam/assets/181203143242-01-fda-research-monkeys-retire-story-body.jpg\" width=\"300\"></media:content><media:content height=\"250\" medium=\"image\" url=\"https://cdn.cnn.com/cnnnext/dam/assets/181203143242-01-fda-research-monkeys-retire-t1-main.jpg\" width=\"250\"></media:content><media:content height=\"186\" medium=\"image\" url=\"https://cdn.cnn.com/cnnnext/dam/assets/181203143242-01-fda-research-monkeys-retire-assign.jpg\" width=\"248\"></media:content><media:content height=\"144\" medium=\"image\" url=\"https://cdn.cnn.com/cnnnext/dam/assets/181203143242-01-fda-research-monkeys-retire-hp-video.jpg\" width=\"256\"></media:content></media:group><feedburner:origlink>https://www.cnn.com/2018/12/04/health/fda-research-monkeys-retire-sanctuary-eprise/index.html</feedburner:origlink></item><item><title></title><description>Question-and-answer website Quora warned late Monday that hackers gained access to the personal data of as many as 100 million of its users.&lt;img src=\"http://feeds.feedburner.com/~r/rss/edition_us/~4/f1ZjvmJPhLw\" height=\"1\" width=\"1\" alt=\"\"/&gt;</description><link/>http://rss.cnn.com/~r/rss/edition_us/~3/f1ZjvmJPhLw/index.html<guid ispermalink=\"false\">https://www.cnn.com/2018/12/03/tech/quora-hack-data-breach/index.html</guid><pubdate>Tue, 04 Dec 2018 04:09:30 GMT</pubdate><media:group><media:content height=\"619\" medium=\"image\" url=\"https://cdn.cnn.com/cnnnext/dam/assets/180928163122-tech-town-super-169.jpg\" width=\"1100\"></media:content><media:content height=\"300\" medium=\"image\" url=\"https://cdn.cnn.com/cnnnext/dam/assets/180928163122-tech-town-large-11.jpg\" width=\"300\"></media:content><media:content height=\"552\" medium=\"image\" url=\"https://cdn.cnn.com/cnnnext/dam/assets/180928163122-tech-town-vertical-large-gallery.jpg\" width=\"414\"></media:content><media:content height=\"480\" medium=\"image\" url=\"https://cdn.cnn.com/cnnnext/dam/assets/180928163122-tech-town-video-synd-2.jpg\" width=\"640\"></media:content><media:content height=\"324\" medium=\"image\" url=\"https://cdn.cnn.com/cnnnext/dam/assets/180928163122-tech-town-live-video.jpg\" width=\"576\"></media:content><media:content height=\"250\" medium=\"image\" url=\"https://cdn.cnn.com/cnnnext/dam/assets/180928163122-tech-town-t1-main.jpg\" width=\"250\"></media:content><media:content height=\"360\" medium=\"image\" url=\"https://cdn.cnn.com/cnnnext/dam/assets/180928163122-tech-town-vertical-gallery.jpg\" width=\"270\"></media:content><media:content height=\"169\" medium=\"image\" url=\"https://cdn.cnn.com/cnnnext/dam/assets/180928163122-tech-town-story-body.jpg\" width=\"300\"></media:content><media:content height=\"250\" medium=\"image\" url=\"https://cdn.cnn.com/cnnnext/dam/assets/180928163122-tech-town-t1-main.jpg\" width=\"250\"></media:content><media:content height=\"186\" medium=\"image\" url=\"https://cdn.cnn.com/cnnnext/dam/assets/180928163122-tech-town-assign.jpg\" width=\"248\"></media:content><media:content height=\"144\" medium=\"image\" url=\"https://cdn.cnn.com/cnnnext/dam/assets/180928163122-tech-town-hp-video.jpg\" width=\"256\"></media:content></media:group><feedburner:origlink>https://www.cnn.com/2018/12/03/tech/quora-hack-data-breach/index.html</feedburner:origlink></item><item><title></title><description>In a deeply divided political climate, Washington witnessed a rare moment of unity on Monday as lawmakers from both sides of the aisle came together to remember George H.W. Bush.&lt;img src=\"http://feeds.feedburner.com/~r/rss/edition_us/~4/WhbYa8V-shQ\" height=\"1\" width=\"1\" alt=\"\"/&gt;</description><link/>http://rss.cnn.com/~r/rss/edition_us/~3/WhbYa8V-shQ/index.html<guid ispermalink=\"false\">https://www.cnn.com/2018/12/03/politics/bush-capitol-rotunda-congress/index.html</guid><pubdate>Tue, 04 Dec 2018 14:15:59 GMT</pubdate><media:group><media:content height=\"619\" medium=\"image\" url=\"https://cdn.cnn.com/cnnnext/dam/assets/181203182110-george-h-w-bush-state-funeral-ryan-pelosi-1203-super-169.jpg\" width=\"1100\"></media:content><media:content height=\"300\" medium=\"image\" url=\"https://cdn.cnn.com/cnnnext/dam/assets/181203182110-george-h-w-bush-state-funeral-ryan-pelosi-1203-large-11.jpg\" width=\"300\"></media:content><media:content height=\"552\" medium=\"image\" url=\"https://cdn.cnn.com/cnnnext/dam/assets/181203182110-george-h-w-bush-state-funeral-ryan-pelosi-1203-vertical-large-gallery.jpg\" width=\"414\"></media:content><media:content height=\"480\" medium=\"image\" url=\"https://cdn.cnn.com/cnnnext/dam/assets/181203182110-george-h-w-bush-state-funeral-ryan-pelosi-1203-video-synd-2.jpg\" width=\"640\"></media:content><media:content height=\"324\" medium=\"image\" url=\"https://cdn.cnn.com/cnnnext/dam/assets/181203182110-george-h-w-bush-state-funeral-ryan-pelosi-1203-live-video.jpg\" width=\"576\"></media:content><media:content height=\"250\" medium=\"image\" url=\"https://cdn.cnn.com/cnnnext/dam/assets/181203182110-george-h-w-bush-state-funeral-ryan-pelosi-1203-t1-main.jpg\" width=\"250\"></media:content><media:content height=\"360\" medium=\"image\" url=\"https://cdn.cnn.com/cnnnext/dam/assets/181203182110-george-h-w-bush-state-funeral-ryan-pelosi-1203-vertical-gallery.jpg\" width=\"270\"></media:content><media:content height=\"169\" medium=\"image\" url=\"https://cdn.cnn.com/cnnnext/dam/assets/181203182110-george-h-w-bush-state-funeral-ryan-pelosi-1203-story-body.jpg\" width=\"300\"></media:content><media:content height=\"250\" medium=\"image\" url=\"https://cdn.cnn.com/cnnnext/dam/assets/181203182110-george-h-w-bush-state-funeral-ryan-pelosi-1203-t1-main.jpg\" width=\"250\"></media:content><media:content height=\"186\" medium=\"image\" url=\"https://cdn.cnn.com/cnnnext/dam/assets/181203182110-george-h-w-bush-state-funeral-ryan-pelosi-1203-assign.jpg\" width=\"248\"></media:content><media:content height=\"144\" medium=\"image\" url=\"https://cdn.cnn.com/cnnnext/dam/assets/181203182110-george-h-w-bush-state-funeral-ryan-pelosi-1203-hp-video.jpg\" width=\"256\"></media:content></media:group><feedburner:origlink>https://www.cnn.com/2018/12/03/politics/bush-capitol-rotunda-congress/index.html</feedburner:origlink></item><item><title></title><description>The man at the center of an election fraud investigation in a North Carolina congressional race turned in nearly half of the requests for absentee ballots in a single county, records released Tuesday by the state's elections board show.&lt;img src=\"http://feeds.feedburner.com/~r/rss/edition_us/~4/qbvn0YqHSHA\" height=\"1\" width=\"1\" alt=\"\"/&gt;</description><link/>http://rss.cnn.com/~r/rss/edition_us/~3/qbvn0YqHSHA/index.html<guid ispermalink=\"false\">https://www.cnn.com/2018/12/04/politics/north-carolina-house-race-mccrae-dowless-absentee-ballots/index.html</guid><pubdate>Wed, 05 Dec 2018 03:24:55 GMT</pubdate><media:group><media:content height=\"619\" medium=\"image\" url=\"https://cdn.cnn.com/cnnnext/dam/assets/181203201049-north-carolina-voting-elections-suspicious-ballots-drew-griffin-sot-vpx-00001514-super-169.jpg\" width=\"1100\"></media:content><media:content height=\"300\" medium=\"image\" url=\"https://cdn.cnn.com/cnnnext/dam/assets/181203201049-north-carolina-voting-elections-suspicious-ballots-drew-griffin-sot-vpx-00001514-large-11.jpg\" width=\"300\"></media:content><media:content height=\"552\" medium=\"image\" url=\"https://cdn.cnn.com/cnnnext/dam/assets/181203201049-north-carolina-voting-elections-suspicious-ballots-drew-griffin-sot-vpx-00001514-vertical-large-gallery.jpg\" width=\"414\"></media:content><media:content height=\"480\" medium=\"image\" url=\"https://cdn.cnn.com/cnnnext/dam/assets/181203201049-north-carolina-voting-elections-suspicious-ballots-drew-griffin-sot-vpx-00001514-video-synd-2.jpg\" width=\"640\"></media:content><media:content height=\"324\" medium=\"image\" url=\"https://cdn.cnn.com/cnnnext/dam/assets/181203201049-north-carolina-voting-elections-suspicious-ballots-drew-griffin-sot-vpx-00001514-live-video.jpg\" width=\"576\"></media:content><media:content height=\"250\" medium=\"image\" url=\"https://cdn.cnn.com/cnnnext/dam/assets/181203201049-north-carolina-voting-elections-suspicious-ballots-drew-griffin-sot-vpx-00001514-t1-main.jpg\" width=\"250\"></media:content><media:content height=\"360\" medium=\"image\" url=\"https://cdn.cnn.com/cnnnext/dam/assets/181203201049-north-carolina-voting-elections-suspicious-ballots-drew-griffin-sot-vpx-00001514-vertical-gallery.jpg\" width=\"270\"></media:content><media:content height=\"169\" medium=\"image\" url=\"https://cdn.cnn.com/cnnnext/dam/assets/181203201049-north-carolina-voting-elections-suspicious-ballots-drew-griffin-sot-vpx-00001514-story-body.jpg\" width=\"300\"></media:content><media:content height=\"250\" medium=\"image\" url=\"https://cdn.cnn.com/cnnnext/dam/assets/181203201049-north-carolina-voting-elections-suspicious-ballots-drew-griffin-sot-vpx-00001514-t1-main.jpg\" width=\"250\"></media:content><media:content height=\"186\" medium=\"image\" url=\"https://cdn.cnn.com/cnnnext/dam/assets/181203201049-north-carolina-voting-elections-suspicious-ballots-drew-griffin-sot-vpx-00001514-assign.jpg\" width=\"248\"></media:content><media:content height=\"144\" medium=\"image\" url=\"https://cdn.cnn.com/cnnnext/dam/assets/181203201049-north-carolina-voting-elections-suspicious-ballots-drew-griffin-sot-vpx-00001514-hp-video.jpg\" width=\"256\"></media:content></media:group><feedburner:origlink>https://www.cnn.com/2018/12/04/politics/north-carolina-house-race-mccrae-dowless-absentee-ballots/index.html</feedburner:origlink></item><item><title></title><description>The casket carrying President George H.W. Bush arrives at the US Capitol as an emotional former president George W. Bush and the rest of the Bush family look on.&lt;img src=\"http://feeds.feedburner.com/~r/rss/edition_us/~4/SS-QOu90GV8\" height=\"1\" width=\"1\" alt=\"\"/&gt;</description><link/>http://rss.cnn.com/~r/rss/edition_us/~3/SS-QOu90GV8/president-george-hw-bush-casket-capitol-george-w-bush-moment-vpx.cnn<guid ispermalink=\"false\">https://www.cnn.com/videos/politics/2018/12/03/president-george-hw-bush-casket-capitol-george-w-bush-moment-vpx.cnn</guid><pubdate>Mon, 03 Dec 2018 22:25:00 GMT</pubdate><media:group><media:content height=\"619\" medium=\"image\" url=\"https://cdn.cnn.com/cnnnext/dam/assets/181203170458-george-hw-bush-casket-capitol-2-super-169.jpg\" width=\"1100\"></media:content><media:content height=\"300\" medium=\"image\" url=\"https://cdn.cnn.com/cnnnext/dam/assets/181203170458-george-hw-bush-casket-capitol-2-large-11.jpg\" width=\"300\"></media:content><media:content height=\"552\" medium=\"image\" url=\"https://cdn.cnn.com/cnnnext/dam/assets/181203170458-george-hw-bush-casket-capitol-2-vertical-large-gallery.jpg\" width=\"414\"></media:content><media:content height=\"480\" medium=\"image\" url=\"https://cdn.cnn.com/cnnnext/dam/assets/181203170458-george-hw-bush-casket-capitol-2-video-synd-2.jpg\" width=\"640\"></media:content><media:content height=\"324\" medium=\"image\" url=\"https://cdn.cnn.com/cnnnext/dam/assets/181203170458-george-hw-bush-casket-capitol-2-live-video.jpg\" width=\"576\"></media:content><media:content height=\"250\" medium=\"image\" url=\"https://cdn.cnn.com/cnnnext/dam/assets/181203170458-george-hw-bush-casket-capitol-2-t1-main.jpg\" width=\"250\"></media:content><media:content height=\"360\" medium=\"image\" url=\"https://cdn.cnn.com/cnnnext/dam/assets/181203170458-george-hw-bush-casket-capitol-2-vertical-gallery.jpg\" width=\"270\"></media:content><media:content height=\"169\" medium=\"image\" url=\"https://cdn.cnn.com/cnnnext/dam/assets/181203170458-george-hw-bush-casket-capitol-2-story-body.jpg\" width=\"300\"></media:content><media:content height=\"250\" medium=\"image\" url=\"https://cdn.cnn.com/cnnnext/dam/assets/181203170458-george-hw-bush-casket-capitol-2-t1-main.jpg\" width=\"250\"></media:content><media:content height=\"186\" medium=\"image\" url=\"https://cdn.cnn.com/cnnnext/dam/assets/181203170458-george-hw-bush-casket-capitol-2-assign.jpg\" width=\"248\"></media:content><media:content height=\"144\" medium=\"image\" url=\"https://cdn.cnn.com/cnnnext/dam/assets/181203170458-george-hw-bush-casket-capitol-2-hp-video.jpg\" width=\"256\"></media:content></media:group><feedburner:origlink>https://www.cnn.com/videos/politics/2018/12/03/president-george-hw-bush-casket-capitol-george-w-bush-moment-vpx.cnn</feedburner:origlink></item><item><title></title><description>President Donald Trump, who declared over the weekend that he'd struck \"an incredible deal\" on trade with China, instead said Tuesday that the Americans and the Chinese remain where they were before he met with Xi Jinping in Argentina: at the start of negotiations.&lt;img src=\"http://feeds.feedburner.com/~r/rss/edition_us/~4/H-xbPHfUNTc\" height=\"1\" width=\"1\" alt=\"\"/&gt;</description><link/>http://rss.cnn.com/~r/rss/edition_us/~3/H-xbPHfUNTc/index.html<guid ispermalink=\"false\">https://www.cnn.com/2018/12/04/politics/trump-us-china-trade-confusion/index.html</guid><pubdate>Wed, 05 Dec 2018 01:47:10 GMT</pubdate><media:group><media:content height=\"619\" medium=\"image\" url=\"https://cdn.cnn.com/cnnnext/dam/assets/181128225005-china-usa-trump-xi-ping-super-169.jpg\" width=\"1100\"></media:content><media:content height=\"300\" medium=\"image\" url=\"https://cdn.cnn.com/cnnnext/dam/assets/181128225005-china-usa-trump-xi-ping-large-11.jpg\" width=\"300\"></media:content><media:content height=\"552\" medium=\"image\" url=\"https://cdn.cnn.com/cnnnext/dam/assets/181128225005-china-usa-trump-xi-ping-vertical-large-gallery.jpg\" width=\"414\"></media:content><media:content height=\"480\" medium=\"image\" url=\"https://cdn.cnn.com/cnnnext/dam/assets/181128225005-china-usa-trump-xi-ping-video-synd-2.jpg\" width=\"640\"></media:content><media:content height=\"324\" medium=\"image\" url=\"https://cdn.cnn.com/cnnnext/dam/assets/181128225005-china-usa-trump-xi-ping-live-video.jpg\" width=\"576\"></media:content><media:content height=\"250\" medium=\"image\" url=\"https://cdn.cnn.com/cnnnext/dam/assets/181128225005-china-usa-trump-xi-ping-t1-main.jpg\" width=\"250\"></media:content><media:content height=\"360\" medium=\"image\" url=\"https://cdn.cnn.com/cnnnext/dam/assets/181128225005-china-usa-trump-xi-ping-vertical-gallery.jpg\" width=\"270\"></media:content><media:content height=\"169\" medium=\"image\" url=\"https://cdn.cnn.com/cnnnext/dam/assets/181128225005-china-usa-trump-xi-ping-story-body.jpg\" width=\"300\"></media:content><media:content height=\"250\" medium=\"image\" url=\"https://cdn.cnn.com/cnnnext/dam/assets/181128225005-china-usa-trump-xi-ping-t1-main.jpg\" width=\"250\"></media:content><media:content height=\"186\" medium=\"image\" url=\"https://cdn.cnn.com/cnnnext/dam/assets/181128225005-china-usa-trump-xi-ping-assign.jpg\" width=\"248\"></media:content><media:content height=\"144\" medium=\"image\" url=\"https://cdn.cnn.com/cnnnext/dam/assets/181128225005-china-usa-trump-xi-ping-hp-video.jpg\" width=\"256\"></media:content></media:group><feedburner:origlink>https://www.cnn.com/2018/12/04/politics/trump-us-china-trade-confusion/index.html</feedburner:origlink></item><item><title></title><description>Stocks were up Monday on the news of a US-China trade truce. But it may be tough for this aging bull market to keep powering ahead for much longer -- even if China and the US reach an actual agreement.&lt;img src=\"http://feeds.feedburner.com/~r/rss/edition_us/~4/nYCroff3ltM\" height=\"1\" width=\"1\" alt=\"\"/&gt;</description><link/>http://rss.cnn.com/~r/rss/edition_us/~3/nYCroff3ltM/index.html<guid ispermalink=\"false\">https://www.cnn.com/2018/12/03/investing/stocks-2019-outlook-caution/index.html</guid><pubdate>Tue, 04 Dec 2018 16:31:27 GMT</pubdate><media:group><media:content height=\"619\" medium=\"image\" url=\"https://cdn.cnn.com/cnnnext/dam/assets/181203103834-20181203-stocks-2019-outlook-caution-super-169.jpg\" width=\"1100\"></media:content><media:content height=\"300\" medium=\"image\" url=\"https://cdn.cnn.com/cnnnext/dam/assets/181203103834-20181203-stocks-2019-outlook-caution-large-11.jpg\" width=\"300\"></media:content><media:content height=\"552\" medium=\"image\" url=\"https://cdn.cnn.com/cnnnext/dam/assets/181203103834-20181203-stocks-2019-outlook-caution-vertical-large-gallery.jpg\" width=\"414\"></media:content><media:content height=\"480\" medium=\"image\" url=\"https://cdn.cnn.com/cnnnext/dam/assets/181203103834-20181203-stocks-2019-outlook-caution-video-synd-2.jpg\" width=\"640\"></media:content><media:content height=\"324\" medium=\"image\" url=\"https://cdn.cnn.com/cnnnext/dam/assets/181203103834-20181203-stocks-2019-outlook-caution-live-video.jpg\" width=\"576\"></media:content><media:content height=\"250\" medium=\"image\" url=\"https://cdn.cnn.com/cnnnext/dam/assets/181203103834-20181203-stocks-2019-outlook-caution-t1-main.jpg\" width=\"250\"></media:content><media:content height=\"360\" medium=\"image\" url=\"https://cdn.cnn.com/cnnnext/dam/assets/181203103834-20181203-stocks-2019-outlook-caution-vertical-gallery.jpg\" width=\"270\"></media:content><media:content height=\"169\" medium=\"image\" url=\"https://cdn.cnn.com/cnnnext/dam/assets/181203103834-20181203-stocks-2019-outlook-caution-story-body.jpg\" width=\"300\"></media:content><media:content height=\"250\" medium=\"image\" url=\"https://cdn.cnn.com/cnnnext/dam/assets/181203103834-20181203-stocks-2019-outlook-caution-t1-main.jpg\" width=\"250\"></media:content><media:content height=\"186\" medium=\"image\" url=\"https://cdn.cnn.com/cnnnext/dam/assets/181203103834-20181203-stocks-2019-outlook-caution-assign.jpg\" width=\"248\"></media:content><media:content height=\"144\" medium=\"image\" url=\"https://cdn.cnn.com/cnnnext/dam/assets/181203103834-20181203-stocks-2019-outlook-caution-hp-video.jpg\" width=\"256\"></media:content></media:group><feedburner:origlink>https://www.cnn.com/2018/12/03/investing/stocks-2019-outlook-caution/index.html</feedburner:origlink></item><item><title></title><description>The recent plunge in the stock market is a cakewalk compared to what's going on with cryptocurrencies. Bitcoin prices are down more than 15% in just the past week and have plummeted nearly 70% so far this year.&lt;img src=\"http://feeds.feedburner.com/~r/rss/edition_us/~4/iom8LPRY2RE\" height=\"1\" width=\"1\" alt=\"\"/&gt;</description><link/>http://rss.cnn.com/~r/rss/edition_us/~3/iom8LPRY2RE/index.html<guid ispermalink=\"false\">https://www.cnn.com/2018/11/20/investing/bitcoin-prices-plunging/index.html</guid><pubdate>Tue, 20 Nov 2018 16:56:48 GMT</pubdate><media:group><media:content height=\"619\" medium=\"image\" url=\"https://cdn.cnn.com/cnnnext/dam/assets/180927091832-01-bitcoin-illustration-super-169.jpg\" width=\"1100\"></media:content><media:content height=\"300\" medium=\"image\" url=\"https://cdn.cnn.com/cnnnext/dam/assets/180927091832-01-bitcoin-illustration-large-11.jpg\" width=\"300\"></media:content><media:content height=\"552\" medium=\"image\" url=\"https://cdn.cnn.com/cnnnext/dam/assets/180927091832-01-bitcoin-illustration-vertical-large-gallery.jpg\" width=\"414\"></media:content><media:content height=\"480\" medium=\"image\" url=\"https://cdn.cnn.com/cnnnext/dam/assets/180927091832-01-bitcoin-illustration-video-synd-2.jpg\" width=\"640\"></media:content><media:content height=\"324\" medium=\"image\" url=\"https://cdn.cnn.com/cnnnext/dam/assets/180927091832-01-bitcoin-illustration-live-video.jpg\" width=\"576\"></media:content><media:content height=\"250\" medium=\"image\" url=\"https://cdn.cnn.com/cnnnext/dam/assets/180927091832-01-bitcoin-illustration-t1-main.jpg\" width=\"250\"></media:content><media:content height=\"360\" medium=\"image\" url=\"https://cdn.cnn.com/cnnnext/dam/assets/180927091832-01-bitcoin-illustration-vertical-gallery.jpg\" width=\"270\"></media:content><media:content height=\"169\" medium=\"image\" url=\"https://cdn.cnn.com/cnnnext/dam/assets/180927091832-01-bitcoin-illustration-story-body.jpg\" width=\"300\"></media:content><media:content height=\"250\" medium=\"image\" url=\"https://cdn.cnn.com/cnnnext/dam/assets/180927091832-01-bitcoin-illustration-t1-main.jpg\" width=\"250\"></media:content><media:content height=\"186\" medium=\"image\" url=\"https://cdn.cnn.com/cnnnext/dam/assets/180927091832-01-bitcoin-illustration-assign.jpg\" width=\"248\"></media:content><media:content height=\"144\" medium=\"image\" url=\"https://cdn.cnn.com/cnnnext/dam/assets/180927091832-01-bitcoin-illustration-hp-video.jpg\" width=\"256\"></media:content></media:group><feedburner:origlink>https://www.cnn.com/2018/11/20/investing/bitcoin-prices-plunging/index.html</feedburner:origlink></item><item><title></title><description>Christina Stembel used to think flowers were a waste of money. But when the economy spiraled into a recession, she started seeing things differently.&lt;img src=\"http://feeds.feedburner.com/~r/rss/edition_us/~4/k0Apf2PZFHg\" height=\"1\" width=\"1\" alt=\"\"/&gt;</description><link/>http://rss.cnn.com/~r/rss/edition_us/~3/k0Apf2PZFHg/index.html<guid ispermalink=\"false\">https://www.cnn.com/2018/11/19/success/farmgirl-flowers-fresh-money/index.html</guid><pubdate>Mon, 19 Nov 2018 15:55:50 GMT</pubdate><media:group><media:content height=\"619\" medium=\"image\" url=\"https://cdn.cnn.com/cnnnext/dam/assets/181115120827-farmgirl-1-super-169.jpg\" width=\"1100\"></media:content><media:content height=\"300\" medium=\"image\" url=\"https://cdn.cnn.com/cnnnext/dam/assets/181115120827-farmgirl-1-large-11.jpg\" width=\"300\"></media:content><media:content height=\"552\" medium=\"image\" url=\"https://cdn.cnn.com/cnnnext/dam/assets/181115120827-farmgirl-1-vertical-large-gallery.jpg\" width=\"414\"></media:content><media:content height=\"480\" medium=\"image\" url=\"https://cdn.cnn.com/cnnnext/dam/assets/181115120827-farmgirl-1-video-synd-2.jpg\" width=\"640\"></media:content><media:content height=\"324\" medium=\"image\" url=\"https://cdn.cnn.com/cnnnext/dam/assets/181115120827-farmgirl-1-live-video.jpg\" width=\"576\"></media:content><media:content height=\"250\" medium=\"image\" url=\"https://cdn.cnn.com/cnnnext/dam/assets/181115120827-farmgirl-1-t1-main.jpg\" width=\"250\"></media:content><media:content height=\"360\" medium=\"image\" url=\"https://cdn.cnn.com/cnnnext/dam/assets/181115120827-farmgirl-1-vertical-gallery.jpg\" width=\"270\"></media:content><media:content height=\"169\" medium=\"image\" url=\"https://cdn.cnn.com/cnnnext/dam/assets/181115120827-farmgirl-1-story-body.jpg\" width=\"300\"></media:content><media:content height=\"250\" medium=\"image\" url=\"https://cdn.cnn.com/cnnnext/dam/assets/181115120827-farmgirl-1-t1-main.jpg\" width=\"250\"></media:content><media:content height=\"186\" medium=\"image\" url=\"https://cdn.cnn.com/cnnnext/dam/assets/181115120827-farmgirl-1-assign.jpg\" width=\"248\"></media:content><media:content height=\"144\" medium=\"image\" url=\"https://cdn.cnn.com/cnnnext/dam/assets/181115120827-farmgirl-1-hp-video.jpg\" width=\"256\"></media:content></media:group><feedburner:origlink>https://www.cnn.com/2018/11/19/success/farmgirl-flowers-fresh-money/index.html</feedburner:origlink></item><item><title></title><link/>http://rss.cnn.com/~r/rss/edition_us/~3/6S-7OWtSyaQ/4-dietary-tweaks-to-ease-hidradenitis-suppurativa-symptoms<guid ispermalink=\"false\">https://healthguides.cnn.com/treating-hidradenitis-suppurativa/4-dietary-tweaks-to-ease-hidradenitis-suppurativa-symptoms?did=t1_atftxt</guid><description>&lt;img src=\"http://feeds.feedburner.com/~r/rss/edition_us/~4/6S-7OWtSyaQ\" height=\"1\" width=\"1\" alt=\"\"/&gt;</description><feedburner:origlink>https://healthguides.cnn.com/treating-hidradenitis-suppurativa/4-dietary-tweaks-to-ease-hidradenitis-suppurativa-symptoms?did=t1_atftxt</feedburner:origlink></item><item><title></title><link/>http://rss.cnn.com/~r/rss/edition_us/~3/Xa3LB9FQP7A/florida-toddler-battling-cancer-in-need-of-extremely-rare-blood-worldwide-search-underway<guid ispermalink=\"false\">https://www.abcactionnews.com/news/state/florida-toddler-battling-cancer-in-need-of-extremely-rare-blood-worldwide-search-underway</guid><media:group><media:content height=\"619\" medium=\"image\" url=\"https://cdn.cnn.com/cnnnext/dam/assets/181204132740-florida-toddler-battling-cancer-in-need-of-extremely-rare-blood-super-169.jpg\" width=\"1100\"></media:content><media:content height=\"300\" medium=\"image\" url=\"https://cdn.cnn.com/cnnnext/dam/assets/181204132740-florida-toddler-battling-cancer-in-need-of-extremely-rare-blood-large-11.jpg\" width=\"300\"></media:content><media:content height=\"552\" medium=\"image\" url=\"https://cdn.cnn.com/cnnnext/dam/assets/181204132740-florida-toddler-battling-cancer-in-need-of-extremely-rare-blood-vertical-large-gallery.jpg\" width=\"414\"></media:content><media:content height=\"480\" medium=\"image\" url=\"https://cdn.cnn.com/cnnnext/dam/assets/181204132740-florida-toddler-battling-cancer-in-need-of-extremely-rare-blood-video-synd-2.jpg\" width=\"640\"></media:content><media:content height=\"324\" medium=\"image\" url=\"https://cdn.cnn.com/cnnnext/dam/assets/181204132740-florida-toddler-battling-cancer-in-need-of-extremely-rare-blood-live-video.jpg\" width=\"576\"></media:content><media:content height=\"250\" medium=\"image\" url=\"https://cdn.cnn.com/cnnnext/dam/assets/181204132740-florida-toddler-battling-cancer-in-need-of-extremely-rare-blood-t1-main.jpg\" width=\"250\"></media:content><media:content height=\"360\" medium=\"image\" url=\"https://cdn.cnn.com/cnnnext/dam/assets/181204132740-florida-toddler-battling-cancer-in-need-of-extremely-rare-blood-vertical-gallery.jpg\" width=\"270\"></media:content><media:content height=\"169\" medium=\"image\" url=\"https://cdn.cnn.com/cnnnext/dam/assets/181204132740-florida-toddler-battling-cancer-in-need-of-extremely-rare-blood-story-body.jpg\" width=\"300\"></media:content><media:content height=\"250\" medium=\"image\" url=\"https://cdn.cnn.com/cnnnext/dam/assets/181204132740-florida-toddler-battling-cancer-in-need-of-extremely-rare-blood-t1-main.jpg\" width=\"250\"></media:content><media:content height=\"186\" medium=\"image\" url=\"https://cdn.cnn.com/cnnnext/dam/assets/181204132740-florida-toddler-battling-cancer-in-need-of-extremely-rare-blood-assign.jpg\" width=\"248\"></media:content><media:content height=\"144\" medium=\"image\" url=\"https://cdn.cnn.com/cnnnext/dam/assets/181204132740-florida-toddler-battling-cancer-in-need-of-extremely-rare-blood-hp-video.jpg\" width=\"256\"></media:content></media:group><description>&lt;img src=\"http://feeds.feedburner.com/~r/rss/edition_us/~4/Xa3LB9FQP7A\" height=\"1\" width=\"1\" alt=\"\"/&gt;</description><feedburner:origlink>https://www.abcactionnews.com/news/state/florida-toddler-battling-cancer-in-need-of-extremely-rare-blood-worldwide-search-underway</feedburner:origlink></item><item><title></title><link/>http://rss.cnn.com/~r/rss/edition_us/~3/emPSQW4E_u0/<guid ispermalink=\"false\">https://miami.cbslocal.com/2018/12/04/fhp-trooper-saves-man-car-crash/</guid><description>&lt;img src=\"http://feeds.feedburner.com/~r/rss/edition_us/~4/emPSQW4E_u0\" height=\"1\" width=\"1\" alt=\"\"/&gt;</description><feedburner:origlink>https://miami.cbslocal.com/2018/12/04/fhp-trooper-saves-man-car-crash/</feedburner:origlink></item><item><title></title><link/>http://rss.cnn.com/~r/rss/edition_us/~3/EDNz_jI81dw/<guid ispermalink=\"false\">http://pittsburgh.cbslocal.com/2018/12/04/steelers-fans-chokes-pregnant-chargers-fan/</guid><description>&lt;img src=\"http://feeds.feedburner.com/~r/rss/edition_us/~4/EDNz_jI81dw\" height=\"1\" width=\"1\" alt=\"\"/&gt;</description><feedburner:origlink>http://pittsburgh.cbslocal.com/2018/12/04/steelers-fans-chokes-pregnant-chargers-fan/</feedburner:origlink></item><item><title></title><link/>http://rss.cnn.com/~r/rss/edition_us/~3/mh6r6MHXV2Y/<guid ispermalink=\"false\">https://wtkr.com/2018/12/04/norfolk-reaches-settlement-with-norfolk-four-will-pay-4-9-million/</guid><description>&lt;img src=\"http://feeds.feedburner.com/~r/rss/edition_us/~4/mh6r6MHXV2Y\" height=\"1\" width=\"1\" alt=\"\"/&gt;</description><feedburner:origlink>https://wtkr.com/2018/12/04/norfolk-reaches-settlement-with-norfolk-four-will-pay-4-9-million/</feedburner:origlink></item><item><title></title><link/>http://rss.cnn.com/~r/rss/edition_us/~3/4lE30tlnjyg/south-florida-doctor-arrested-accused-of-drugging-womans-drink<guid ispermalink=\"false\">https://www.wptv.com/news/region-s-palm-beach-county/boca-raton/south-florida-doctor-arrested-accused-of-drugging-womans-drink</guid><description>&lt;img src=\"http://feeds.feedburner.com/~r/rss/edition_us/~4/4lE30tlnjyg\" height=\"1\" width=\"1\" alt=\"\"/&gt;</description><feedburner:origlink>https://www.wptv.com/news/region-s-palm-beach-county/boca-raton/south-florida-doctor-arrested-accused-of-drugging-womans-drink</feedburner:origlink></item><item><title></title><link/>http://rss.cnn.com/~r/rss/edition_us/~3/4knnyGqE5Y8/<guid ispermalink=\"false\">https://philadelphia.cbslocal.com/2018/12/03/secret-santa-gifts-29000-worth-of-layaway-at-walmart-in-chester-county/</guid><description>&lt;img src=\"http://feeds.feedburner.com/~r/rss/edition_us/~4/4knnyGqE5Y8\" height=\"1\" width=\"1\" alt=\"\"/&gt;</description><feedburner:origlink>https://philadelphia.cbslocal.com/2018/12/03/secret-santa-gifts-29000-worth-of-layaway-at-walmart-in-chester-county/</feedburner:origlink></item><item><title></title><link/>http://rss.cnn.com/~r/rss/edition_us/~3/k05hmkSwElg/<guid ispermalink=\"false\">https://fox43.com/2018/12/04/homeless-man-causes-nearly-24000-in-damage-to-nearly-80-vehicles-in-lgh-penn-medicine-parking-garage/</guid><description>&lt;img src=\"http://feeds.feedburner.com/~r/rss/edition_us/~4/k05hmkSwElg\" height=\"1\" width=\"1\" alt=\"\"/&gt;</description><feedburner:origlink>https://fox43.com/2018/12/04/homeless-man-causes-nearly-24000-in-damage-to-nearly-80-vehicles-in-lgh-penn-medicine-parking-garage/</feedburner:origlink></item><item><title></title><link/>http://rss.cnn.com/~r/rss/edition_us/~3/lJwveoWP9lQ/article_dc23a22e-1c8b-58d8-8772-299f7b6b8dab.html<guid ispermalink=\"false\">https://poststar.com/news/local/store-owner-catches-scammer-trying-to-capitalize-on-fire/article_dc23a22e-1c8b-58d8-8772-299f7b6b8dab.html</guid><description>&lt;img src=\"http://feeds.feedburner.com/~r/rss/edition_us/~4/lJwveoWP9lQ\" height=\"1\" width=\"1\" alt=\"\"/&gt;</description><feedburner:origlink>https://poststar.com/news/local/store-owner-catches-scammer-trying-to-capitalize-on-fire/article_dc23a22e-1c8b-58d8-8772-299f7b6b8dab.html</feedburner:origlink></item><item><title></title><link/>http://rss.cnn.com/~r/rss/edition_us/~3/ERxrZS7kgW0/<guid ispermalink=\"false\">https://boston.cbslocal.com/2018/12/03/wheaton-college-dorm-arson-fire-investigation/</guid><description>&lt;img src=\"http://feeds.feedburner.com/~r/rss/edition_us/~4/ERxrZS7kgW0\" height=\"1\" width=\"1\" alt=\"\"/&gt;</description><feedburner:origlink>https://boston.cbslocal.com/2018/12/03/wheaton-college-dorm-arson-fire-investigation/</feedburner:origlink></item><item><title></title><link/>http://rss.cnn.com/~r/rss/edition_us/~3/jnPMnWrVEcU/<guid ispermalink=\"false\">https://newyork.cbslocal.com/2018/12/03/fedex-workers-charged-with-assault-after-road-rage-incident-outside-funeral/</guid><description>&lt;img src=\"http://feeds.feedburner.com/~r/rss/edition_us/~4/jnPMnWrVEcU\" height=\"1\" width=\"1\" alt=\"\"/&gt;</description><feedburner:origlink>https://newyork.cbslocal.com/2018/12/03/fedex-workers-charged-with-assault-after-road-rage-incident-outside-funeral/</feedburner:origlink></item><item><title></title><link/>http://rss.cnn.com/~r/rss/edition_us/~3/R6-lI2fSovQ/<guid ispermalink=\"false\">https://wgntv.com/2018/12/04/large-fire-reported-at-mussmans-back-acres-egg-farm/</guid><media:group><media:content height=\"619\" medium=\"image\" url=\"https://cdn.cnn.com/cnnnext/dam/assets/181204132608-large-fire-reported-at-mussmans-back-acres-egg-farm-super-169.jpg\" width=\"1100\"></media:content><media:content height=\"300\" medium=\"image\" url=\"https://cdn.cnn.com/cnnnext/dam/assets/181204132608-large-fire-reported-at-mussmans-back-acres-egg-farm-large-11.jpg\" width=\"300\"></media:content><media:content height=\"552\" medium=\"image\" url=\"https://cdn.cnn.com/cnnnext/dam/assets/181204132608-large-fire-reported-at-mussmans-back-acres-egg-farm-vertical-large-gallery.jpg\" width=\"414\"></media:content><media:content height=\"480\" medium=\"image\" url=\"https://cdn.cnn.com/cnnnext/dam/assets/181204132608-large-fire-reported-at-mussmans-back-acres-egg-farm-video-synd-2.jpg\" width=\"640\"></media:content><media:content height=\"324\" medium=\"image\" url=\"https://cdn.cnn.com/cnnnext/dam/assets/181204132608-large-fire-reported-at-mussmans-back-acres-egg-farm-live-video.jpg\" width=\"576\"></media:content><media:content height=\"250\" medium=\"image\" url=\"https://cdn.cnn.com/cnnnext/dam/assets/181204132608-large-fire-reported-at-mussmans-back-acres-egg-farm-t1-main.jpg\" width=\"250\"></media:content><media:content height=\"360\" medium=\"image\" url=\"https://cdn.cnn.com/cnnnext/dam/assets/181204132608-large-fire-reported-at-mussmans-back-acres-egg-farm-vertical-gallery.jpg\" width=\"270\"></media:content><media:content height=\"169\" medium=\"image\" url=\"https://cdn.cnn.com/cnnnext/dam/assets/181204132608-large-fire-reported-at-mussmans-back-acres-egg-farm-story-body.jpg\" width=\"300\"></media:content><media:content height=\"250\" medium=\"image\" url=\"https://cdn.cnn.com/cnnnext/dam/assets/181204132608-large-fire-reported-at-mussmans-back-acres-egg-farm-t1-main.jpg\" width=\"250\"></media:content><media:content height=\"186\" medium=\"image\" url=\"https://cdn.cnn.com/cnnnext/dam/assets/181204132608-large-fire-reported-at-mussmans-back-acres-egg-farm-assign.jpg\" width=\"248\"></media:content><media:content height=\"144\" medium=\"image\" url=\"https://cdn.cnn.com/cnnnext/dam/assets/181204132608-large-fire-reported-at-mussmans-back-acres-egg-farm-hp-video.jpg\" width=\"256\"></media:content></media:group><description>&lt;img src=\"http://feeds.feedburner.com/~r/rss/edition_us/~4/R6-lI2fSovQ\" height=\"1\" width=\"1\" alt=\"\"/&gt;</description><feedburner:origlink>https://wgntv.com/2018/12/04/large-fire-reported-at-mussmans-back-acres-egg-farm/</feedburner:origlink></item><item><title></title><link/>http://rss.cnn.com/~r/rss/edition_us/~3/AaES0k84kU8/<guid ispermalink=\"false\">https://fox4kc.com/2018/12/03/south-kc-man-sends-terrified-package-thief-running-with-home-security-alarm/</guid><description>&lt;img src=\"http://feeds.feedburner.com/~r/rss/edition_us/~4/AaES0k84kU8\" height=\"1\" width=\"1\" alt=\"\"/&gt;</description><feedburner:origlink>https://fox4kc.com/2018/12/03/south-kc-man-sends-terrified-package-thief-running-with-home-security-alarm/</feedburner:origlink></item><item><title></title><link/>http://rss.cnn.com/~r/rss/edition_us/~3/IEzZaC6vGQ4/article_88791934-0700-5c95-86f4-f15d3e67b130.html<guid ispermalink=\"false\">https://lacrossetribune.com/news/local/la-crosse-school-staffers-arrange-help-for-boy-teased-over/article_88791934-0700-5c95-86f4-f15d3e67b130.html#tracking-source=home-top-story-1</guid><description>&lt;img src=\"http://feeds.feedburner.com/~r/rss/edition_us/~4/IEzZaC6vGQ4\" height=\"1\" width=\"1\" alt=\"\"/&gt;</description><feedburner:origlink>https://lacrossetribune.com/news/local/la-crosse-school-staffers-arrange-help-for-boy-teased-over/article_88791934-0700-5c95-86f4-f15d3e67b130.html#tracking-source=home-top-story-1</feedburner:origlink></item><item><title></title><link/>http://rss.cnn.com/~r/rss/edition_us/~3/jVWlW1Fpr68/<guid ispermalink=\"false\">https://fox6now.com/2018/12/03/wild-chase-by-greendale-pd-makes-national-headlines-as-suspect-tries-desperately-to-avoid-capture/</guid><description>&lt;img src=\"http://feeds.feedburner.com/~r/rss/edition_us/~4/jVWlW1Fpr68\" height=\"1\" width=\"1\" alt=\"\"/&gt;</description><feedburner:origlink>https://fox6now.com/2018/12/03/wild-chase-by-greendale-pd-makes-national-headlines-as-suspect-tries-desperately-to-avoid-capture/</feedburner:origlink></item><item><title></title><link/>http://rss.cnn.com/~r/rss/edition_us/~3/TiHEyDxEwp8/Pharmacy-director-being-investigated-for-embezzling-millions-501829402.html<guid ispermalink=\"false\">https://www.wowt.com/content/news/Pharmacy-director-being-investigated-for-embezzling-millions-501829402.html</guid><description>&lt;img src=\"http://feeds.feedburner.com/~r/rss/edition_us/~4/TiHEyDxEwp8\" height=\"1\" width=\"1\" alt=\"\"/&gt;</description><feedburner:origlink>https://www.wowt.com/content/news/Pharmacy-director-being-investigated-for-embezzling-millions-501829402.html</feedburner:origlink></item><item><title></title><link/>http://rss.cnn.com/~r/rss/edition_us/~3/-nDNp0WSnQY/<guid ispermalink=\"false\">https://wgno.com/2018/12/04/police-find-almost-370000-in-cash-in-hidden-compartment-during-traffic-stop/</guid><description>&lt;img src=\"http://feeds.feedburner.com/~r/rss/edition_us/~4/-nDNp0WSnQY\" height=\"1\" width=\"1\" alt=\"\"/&gt;</description><feedburner:origlink>https://wgno.com/2018/12/04/police-find-almost-370000-in-cash-in-hidden-compartment-during-traffic-stop/</feedburner:origlink></item></channel></rss>\n",
       "</body></html>"
      ]
     },
     "execution_count": 201,
     "metadata": {},
     "output_type": "execute_result"
    }
   ],
   "source": [
    "request = Request()\n",
    "#request.makeRequest(\"http://www.esiee.fr/\")\n",
    "rssSoup = request.getURLSoup(\"http://rss.cnn.com/rss/edition_us.rss\")\n",
    "\n",
    "print('Texte important : \\n')\n",
    "print(rssSoup.text)\n",
    "\n",
    "print('URL de la page : \\n')\n",
    "print(\"http://rss.cnn.com/rss/edition_us.rss \\n\")\n",
    "\n",
    "getURLDomain(\"http://rss.cnn.com/rss/edition_us.rss\")\n",
    "\n",
    "rssSoup"
   ]
  },
  {
   "cell_type": "code",
   "execution_count": null,
   "metadata": {
    "collapsed": true
   },
   "outputs": [],
   "source": []
  }
 ],
 "metadata": {
  "kernelspec": {
   "display_name": "Python 3",
   "language": "python",
   "name": "python3"
  },
  "language_info": {
   "codemirror_mode": {
    "name": "ipython",
    "version": 3
   },
   "file_extension": ".py",
   "mimetype": "text/x-python",
   "name": "python",
   "nbconvert_exporter": "python",
   "pygments_lexer": "ipython3",
   "version": "3.6.3"
  }
 },
 "nbformat": 4,
 "nbformat_minor": 2
}
